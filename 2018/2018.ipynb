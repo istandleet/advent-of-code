{
 "cells": [
  {
   "cell_type": "markdown",
   "metadata": {},
   "source": [
    "# Day 1"
   ]
  },
  {
   "cell_type": "code",
   "execution_count": null,
   "metadata": {},
   "outputs": [],
   "source": [
    "with open ('1.txt','r') as f:\n",
    "    s = f.read()"
   ]
  },
  {
   "cell_type": "code",
   "execution_count": null,
   "metadata": {},
   "outputs": [],
   "source": [
    "i = 0\n",
    "for l in s.splitlines():\n",
    "    l = l.strip()\n",
    "    if l == '':\n",
    "        continue\n",
    "    elif l[0] == '+':\n",
    "        i+=int(l[1:])\n",
    "    elif l[0] == '-':\n",
    "        i-=int(l[1:])\n",
    "    else:\n",
    "        print(l)\n",
    "i"
   ]
  },
  {
   "cell_type": "code",
   "execution_count": null,
   "metadata": {},
   "outputs": [],
   "source": [
    "freq = 0\n",
    "freqs = set([freq])\n",
    "not_hit = True\n",
    "while not_hit:\n",
    "    for l in s.splitlines():\n",
    "        l = l.strip()\n",
    "        if l == '':\n",
    "            continue\n",
    "        elif l[0] == '+':\n",
    "            freq+=int(l[1:])\n",
    "        elif l[0] == '-':\n",
    "            freq-=int(l[1:])\n",
    "        else:\n",
    "            print(l)\n",
    "        if freq in freqs:\n",
    "            not_hit = False\n",
    "            break\n",
    "        else:\n",
    "            freqs.add(freq)\n",
    "freq"
   ]
  },
  {
   "cell_type": "markdown",
   "metadata": {},
   "source": [
    "# Day 2"
   ]
  },
  {
   "cell_type": "code",
   "execution_count": null,
   "metadata": {},
   "outputs": [],
   "source": [
    "with open ('2.txt','r') as f:\n",
    "    s = f.read()"
   ]
  },
  {
   "cell_type": "code",
   "execution_count": null,
   "metadata": {},
   "outputs": [],
   "source": [
    "def count(xs):\n",
    "    r = {}\n",
    "    for x in xs:\n",
    "        if x in r:\n",
    "            r[x]+=1\n",
    "        else:\n",
    "            r[x]=1\n",
    "    return r"
   ]
  },
  {
   "cell_type": "code",
   "execution_count": null,
   "metadata": {},
   "outputs": [],
   "source": [
    "twos = 0\n",
    "threes = 0\n",
    "for l in s.splitlines():\n",
    "    l = l.strip()\n",
    "    if l == '':\n",
    "        continue\n",
    "    c = count(l)\n",
    "    if any(v == 2 for v in c.values()):\n",
    "        twos+=1\n",
    "    if any(v == 3 for v in c.values()):\n",
    "        threes+=1\n",
    "twos*threes"
   ]
  },
  {
   "cell_type": "code",
   "execution_count": null,
   "metadata": {},
   "outputs": [],
   "source": [
    "def almostSame(xs,ys):\n",
    "    if len(xs) != len(ys):\n",
    "        return False\n",
    "    difference = len([x for x,y in zip(xs,ys) if x!=y])\n",
    "    return difference == 1"
   ]
  },
  {
   "cell_type": "code",
   "execution_count": null,
   "metadata": {},
   "outputs": [],
   "source": [
    "ls = [l.strip() for l in s.splitlines() if l.strip()!='']\n",
    "while len(ls) > 0:\n",
    "    a = ls.pop()\n",
    "    b = [l for l in ls if almostSame(a,l)]\n",
    "    if len(b) > 0:\n",
    "        print(a,b)"
   ]
  },
  {
   "cell_type": "code",
   "execution_count": null,
   "metadata": {},
   "outputs": [],
   "source": [
    "a = 'lnfqdscwjyteorambzuchzrgpx' \n",
    "b = 'lnfqdscwjyteorambzuchirgpx'\n",
    "''.join(x for x,y in zip(a,b) if x==y)"
   ]
  },
  {
   "cell_type": "markdown",
   "metadata": {},
   "source": [
    "# Day 3"
   ]
  },
  {
   "cell_type": "code",
   "execution_count": null,
   "metadata": {},
   "outputs": [],
   "source": [
    "with open ('3.txt','r') as f:\n",
    "    s = f.read()"
   ]
  },
  {
   "cell_type": "code",
   "execution_count": null,
   "metadata": {},
   "outputs": [],
   "source": [
    "def decodeLine(s):\n",
    "    ss = s.split()\n",
    "    num = int(ss[0][1:])\n",
    "    coor = ss[2][:-1].split(',')\n",
    "    x = int(coor[0])\n",
    "    y = int(coor[1])\n",
    "    size = ss[3].split('x')\n",
    "    w = int(size[0])\n",
    "    h = int(size[1])\n",
    "    return num,x,y,w,h"
   ]
  },
  {
   "cell_type": "code",
   "execution_count": null,
   "metadata": {},
   "outputs": [],
   "source": [
    "hit = set()\n",
    "doublehit = set()\n",
    "\n",
    "ls = [l.strip() for l in s.splitlines() if l.strip()!='']\n",
    "for l in ls:\n",
    "    num,x0,y0,w,h = decodeLine(l)\n",
    "    for dx in range(w):\n",
    "        for dy in range(h):\n",
    "            x=x0+dx\n",
    "            y=y0+dy\n",
    "            t=(x,y)\n",
    "            if t in hit:\n",
    "                doublehit.add(t)\n",
    "            else:\n",
    "                hit.add(t)\n",
    "len(doublehit)"
   ]
  },
  {
   "cell_type": "code",
   "execution_count": null,
   "metadata": {},
   "outputs": [],
   "source": [
    "bad_nums = set()\n",
    "nums = set()\n",
    "\n",
    "ls = [l.strip() for l in s.splitlines() if l.strip()!='']\n",
    "for l in ls:\n",
    "    num,x0,y0,w,h = decodeLine(l)\n",
    "    nums.add(num)\n",
    "    for dx in range(w):\n",
    "        for dy in range(h):\n",
    "            x=x0+dx\n",
    "            y=y0+dy\n",
    "            t=(x,y)\n",
    "            if t in doublehit:\n",
    "                bad_nums.add(num)\n",
    "nums - bad_nums"
   ]
  },
  {
   "cell_type": "markdown",
   "metadata": {},
   "source": [
    "# Day 4"
   ]
  },
  {
   "cell_type": "code",
   "execution_count": null,
   "metadata": {},
   "outputs": [],
   "source": [
    "with open ('4.txt','r') as f:\n",
    "    s = f.read()"
   ]
  },
  {
   "cell_type": "code",
   "execution_count": null,
   "metadata": {},
   "outputs": [],
   "source": [
    "guard_times = {}\n",
    "\n",
    "curr_gaurd = None\n",
    "ls = sorted(s.splitlines())\n",
    "while len(ls)>0:\n",
    "    l = ls.pop(0)\n",
    "    assert(l[19:24] == 'Guard')\n",
    "    minute = int(l[15:17])\n",
    "    curr_gaurd = int(l[26:].split()[0])\n",
    "    if curr_gaurd not in guard_times:\n",
    "        guard_times[curr_gaurd] = {m:0 for m in range(60)}\n",
    "    \n",
    "    while len(ls) > 0 and ls[0][19:24] != 'Guard':\n",
    "        falls_asleep = ls.pop(0)\n",
    "        wakes_up = ls.pop(0)\n",
    "        assert(falls_asleep[19:] == 'falls asleep')\n",
    "        assert(wakes_up[19:] == 'wakes up')\n",
    "        fa_min = int(falls_asleep[15:17])\n",
    "        wu_min = int(wakes_up[15:17])\n",
    "        for m in range(fa_min,wu_min):\n",
    "            guard_times[curr_gaurd][m] += 1"
   ]
  },
  {
   "cell_type": "code",
   "execution_count": null,
   "metadata": {},
   "outputs": [],
   "source": [
    "max_gaurd = None\n",
    "max_gaurd_val = 0\n",
    "max_gaurd_min = None\n",
    "for g in guard_times:\n",
    "    v = sum(guard_times[g].values())\n",
    "    if v > max_gaurd_val:\n",
    "        max_gaurd = g\n",
    "        max_gaurd_val = v\n",
    "        \n",
    "        t = 0\n",
    "        for m in range(60):\n",
    "            if guard_times[g][m] > t:\n",
    "                t = guard_times[g][m]\n",
    "                max_gaurd_min = m\n",
    "\n",
    "print(max_gaurd,max_gaurd_min)\n",
    "max_gaurd*max_gaurd_min"
   ]
  },
  {
   "cell_type": "code",
   "execution_count": null,
   "metadata": {},
   "outputs": [],
   "source": [
    "max_gaurd = None\n",
    "max_gaurd_val = 0\n",
    "max_gaurd_min = None\n",
    "for g in guard_times:\n",
    "    for m in range(60):\n",
    "        if guard_times[g][m] > max_gaurd_val:\n",
    "            max_gaurd = g\n",
    "            max_gaurd_val = guard_times[g][m]\n",
    "            max_gaurd_min = m\n",
    "\n",
    "print(max_gaurd,max_gaurd_min)\n",
    "max_gaurd*max_gaurd_min"
   ]
  },
  {
   "cell_type": "markdown",
   "metadata": {},
   "source": [
    "# Day 5"
   ]
  },
  {
   "cell_type": "code",
   "execution_count": null,
   "metadata": {},
   "outputs": [],
   "source": [
    "with open('5.txt','r') as f:\n",
    "    s = f.read()"
   ]
  },
  {
   "cell_type": "code",
   "execution_count": null,
   "metadata": {},
   "outputs": [],
   "source": [
    "s = \"dabAcCaCBAcCcaDA\""
   ]
  },
  {
   "cell_type": "code",
   "execution_count": null,
   "metadata": {},
   "outputs": [],
   "source": [
    "def go(s):\n",
    "    sc = s\n",
    "    i = 0\n",
    "    while i < len(sc) - 1:\n",
    "        c = sc[i]\n",
    "        ci = ord(c)\n",
    "        if ci >= 65 and ci <= 90:\n",
    "            # capital\n",
    "            if sc[i+1] == chr(ci + 32):\n",
    "                sc = sc[:i] + sc[i+2:]\n",
    "                i = max(0,i-1)\n",
    "            else:\n",
    "                i += 1\n",
    "        elif ci >= 97 and ci <= 122:\n",
    "            # lower\n",
    "            if sc[i+1] == chr(ci - 32):\n",
    "                sc = sc[:i] + sc[i+2:]\n",
    "                i = max(0,i-1)\n",
    "            else:\n",
    "                i += 1\n",
    "        else:\n",
    "            raise Exception(c,i)\n",
    "    return len(sc)"
   ]
  },
  {
   "cell_type": "code",
   "execution_count": null,
   "metadata": {},
   "outputs": [],
   "source": [
    "go(s)"
   ]
  },
  {
   "cell_type": "code",
   "execution_count": null,
   "metadata": {},
   "outputs": [],
   "source": [
    "min(go(''.join(c for c in s if c != chr(ci) and c != chr(ci+32))) \n",
    "    for ci in range(65,91))"
   ]
  },
  {
   "cell_type": "markdown",
   "metadata": {},
   "source": [
    "# Day 6"
   ]
  },
  {
   "cell_type": "code",
   "execution_count": null,
   "metadata": {},
   "outputs": [],
   "source": [
    "from collections import Counter"
   ]
  },
  {
   "cell_type": "code",
   "execution_count": null,
   "metadata": {},
   "outputs": [],
   "source": [
    "with open('6.txt','r') as f:\n",
    "    s = f.read()"
   ]
  },
  {
   "cell_type": "code",
   "execution_count": null,
   "metadata": {},
   "outputs": [],
   "source": [
    "s = \"\"\"1, 1\n",
    "1, 6\n",
    "8, 3\n",
    "3, 4\n",
    "5, 5\n",
    "8, 9\"\"\""
   ]
  },
  {
   "cell_type": "code",
   "execution_count": null,
   "metadata": {},
   "outputs": [],
   "source": [
    "def readLine(l):\n",
    "    return tuple(map(int,l.split(', ')))"
   ]
  },
  {
   "cell_type": "code",
   "execution_count": null,
   "metadata": {},
   "outputs": [],
   "source": [
    "coords = list(map(readLine,s.splitlines()))"
   ]
  },
  {
   "cell_type": "code",
   "execution_count": null,
   "metadata": {},
   "outputs": [],
   "source": [
    "len(coords)"
   ]
  },
  {
   "cell_type": "code",
   "execution_count": null,
   "metadata": {},
   "outputs": [],
   "source": [
    "x_max = max(map(lambda d:d[0],coords))\n",
    "x_min = min(map(lambda d:d[0],coords))\n",
    "y_max = max(map(lambda d:d[1],coords))\n",
    "y_min = min(map(lambda d:d[1],coords))\n",
    "x_min,x_max,y_min,y_max"
   ]
  },
  {
   "cell_type": "code",
   "execution_count": null,
   "metadata": {},
   "outputs": [],
   "source": [
    "def man_distance(p1,p2):\n",
    "    return sum(abs(a-b) for a,b in zip(p1,p2))\n",
    "def find_closest(coords,x,y):\n",
    "    closest = None\n",
    "    distance = None\n",
    "    for i,p in enumerate(coords):\n",
    "        d = man_distance(p,(x,y))\n",
    "        if distance is None or d < distance:\n",
    "            distance = d\n",
    "            closest = i\n",
    "        elif d == distance:\n",
    "            closest = None\n",
    "    return closest\n",
    "    \n",
    "closest = [(x,y,find_closest(coords,x,y))\n",
    " for x in range(x_min,x_max+1)\n",
    " for y in range(y_min,y_max+1)\n",
    "]   "
   ]
  },
  {
   "cell_type": "code",
   "execution_count": null,
   "metadata": {},
   "outputs": [],
   "source": [
    "blacklisted = set(i for x,y,i in closest if x in (x_min,x_max) or y in (y_min,y_max))\n",
    "blacklisted.add(None)\n",
    "remaining = [i for _,_,i in closest if i not in blacklisted]\n",
    "max(Counter(remaining).values())"
   ]
  },
  {
   "cell_type": "code",
   "execution_count": null,
   "metadata": {},
   "outputs": [],
   "source": [
    "cutoff = 10000\n",
    "i = 0\n",
    "for x in range(x_min,x_max+1):\n",
    "    for y in range(y_min,y_max+1):\n",
    "        if sum(man_distance(p,(x,y)) for p in coords) < cutoff:\n",
    "            i+=1\n",
    "i"
   ]
  },
  {
   "cell_type": "markdown",
   "metadata": {},
   "source": [
    "# Day 7"
   ]
  },
  {
   "cell_type": "code",
   "execution_count": null,
   "metadata": {},
   "outputs": [],
   "source": [
    "with open('7.txt','r') as f:\n",
    "    s = f.read()"
   ]
  },
  {
   "cell_type": "code",
   "execution_count": null,
   "metadata": {},
   "outputs": [],
   "source": [
    "s = \"\"\"Step C must be finished before step A can begin.\n",
    "Step C must be finished before step F can begin.\n",
    "Step A must be finished before step B can begin.\n",
    "Step A must be finished before step D can begin.\n",
    "Step B must be finished before step E can begin.\n",
    "Step D must be finished before step E can begin.\n",
    "Step F must be finished before step E can begin.\"\"\""
   ]
  },
  {
   "cell_type": "code",
   "execution_count": null,
   "metadata": {},
   "outputs": [],
   "source": [
    "def readLine(l):\n",
    "    return l[5],l[36]"
   ]
  },
  {
   "cell_type": "code",
   "execution_count": null,
   "metadata": {},
   "outputs": [],
   "source": [
    "orders = list(map(readLine,s.splitlines()))\n",
    "chars = set(map(lambda d: d[0],orders)) | set(map(lambda d: d[1],orders))\n",
    "reqs = {c : set() for c in chars}\n",
    "for a,b in orders:\n",
    "    reqs[b].add(a)\n",
    "\n",
    "order = []\n",
    "while len(reqs) > 0:\n",
    "    next_up = sorted(c for c,r in reqs.items() if len(r) == 0)[0]\n",
    "    del reqs[next_up]\n",
    "    order.append(next_up)\n",
    "    for r in reqs.values():\n",
    "        if next_up in r:\n",
    "            r.remove(next_up)\n",
    "''.join(order)"
   ]
  },
  {
   "cell_type": "code",
   "execution_count": null,
   "metadata": {},
   "outputs": [],
   "source": [
    "workers = 5\n",
    "\n",
    "orders = list(map(readLine,s.splitlines()))\n",
    "chars = set(map(lambda d: d[0],orders)) | set(map(lambda d: d[1],orders))\n",
    "reqs = {c : set() for c in chars}\n",
    "for a,b in orders:\n",
    "    reqs[b].add(a)\n",
    "\n",
    "work_til = [(-1,None)]*workers\n",
    "time = 0\n",
    "while len(reqs) > 0:\n",
    "    finished = [b for a,b in work_til if a == time]\n",
    "    for b in finished:\n",
    "        for r in reqs.values():\n",
    "            if b in r:\n",
    "                r.remove(b)\n",
    "    available = [i for i,(a,_) in enumerate(work_til) if a <= time]\n",
    "    ready = sorted(c for c,r in reqs.items() if len(r) == 0)\n",
    "    # print(time,available,ready)\n",
    "    while len(available) > 0 and len(ready) > 0:\n",
    "        next_up = ready.pop(0)\n",
    "        del reqs[next_up]\n",
    "        worker = available.pop(0)\n",
    "        time_finished = time + ord(next_up) - 4\n",
    "        # print(time,time_finished,worker,next_up)\n",
    "        work_til[worker] = (time_finished,next_up)\n",
    "    time+=1\n",
    "    \n",
    "max(map(lambda d: d[0],work_til))"
   ]
  },
  {
   "cell_type": "markdown",
   "metadata": {},
   "source": [
    "# Day 8"
   ]
  },
  {
   "cell_type": "markdown",
   "metadata": {},
   "source": [
    "```haskell\n",
    "import Control.Monad\n",
    "import Control.Monad.State\n",
    "\n",
    "type State s a = s -> (a,s)\n",
    "\n",
    "instance Functor (State s) where \n",
    "    -- Functor generalizes `map :: (a -> b) -> ([a] -> [b])`\n",
    "    fmap :: (a -> b) -> (State s a -> State s b)\n",
    "    fmap f state = \\s -> let (a,s') = state s in (f a,s')\n",
    "    \n",
    "instance Monad (State s) where\n",
    "    -- pure just creates a Monad out of it's return type\n",
    "    pure :: a -> State s a\n",
    "    pure a = \\s -> (a,s)\n",
    "    \n",
    "    -- >>= , called bind, encapsulates running a monad\n",
    "    -- and feeding it's output to create a new monad\n",
    "    >>= :: State s a -> (a -> State s b) -> State s b\n",
    "    state >>= f = \\s -> \n",
    "        let (a,s') = state s\n",
    "            state' = f a\n",
    "            (b,s'') = state' s'\n",
    "         in (b,s'')\n",
    "    \n",
    "replicateM :: Monad m => Int -> m a -> m [a]\n",
    "replicateM 0 _ = pure []\n",
    "replicateM n m = do\n",
    "    x  <- m\n",
    "    xs <- replicateM (n-1) m\n",
    "    pure (x:xs) -- (x:) == (partial cons x)\n",
    "\n",
    "get :: State s s -- (s -> (s,s))\n",
    "get = \\s -> (s,s)\n",
    "\n",
    "put :: s -> State s ()\n",
    "put s' = \\s -> ((),s')\n",
    "\n",
    "data Tree = Tree {children :: [Tree], meta:: [Int]} deriving (Show,Eq)\n",
    "readTree :: State [Int] Tree\n",
    "readTree = do\n",
    "    (cn:mdn:ls) <- get\n",
    "    put ls\n",
    "    children <- replicateM cn readTree\n",
    "    (meta,ls') <- fmap (splitAt mdn) get \n",
    "    put ls'\n",
    "    pure (Tree children meta)\n",
    "    \n",
    "sumTree :: Tree -> Int\n",
    "sumTree (Tree children meta) = sum meta + sum (map sumTree children)\n",
    "```"
   ]
  },
  {
   "cell_type": "markdown",
   "metadata": {},
   "source": [
    "```haskell\n",
    "let s = \"2 3 0 3 10 11 12 1 1 0 1 99 2 1 1 2\"\n",
    "s <- readFile \"8.txt\"\n",
    "let is = map read (words s) :: [Int]\n",
    "let tree = evalState readTree is\n",
    "sumTree tree\n",
    "```"
   ]
  },
  {
   "cell_type": "markdown",
   "metadata": {},
   "source": [
    "```haskell\n",
    "valueTree :: Tree -> Int\n",
    "valueTree (Tree [] meta) = sum meta\n",
    "valueTree (Tree children meta) = sum (map go meta)\n",
    "    where\n",
    "    go i | i <= 0 || i > length children = 0\n",
    "         | otherwise = valueTree (children !! (i-1))\n",
    "```"
   ]
  },
  {
   "cell_type": "code",
   "execution_count": null,
   "metadata": {},
   "outputs": [],
   "source": [
    "def readTree(ints):\n",
    "    cn  = ints.pop(0)\n",
    "    mdn = ints.pop(0)\n",
    "    children = []\n",
    "    for _ in range(cn):\n",
    "        child,ints = readTree(ints)\n",
    "        children.append(child)\n",
    "    meta = ints[:mdn]\n",
    "    ints = ints[mdn:]\n",
    "    return (children,meta),ints\n",
    "\n",
    "def sumTree(tree):\n",
    "    children,meta = tree\n",
    "    return sum(meta) + sum(map(sumTree,children))"
   ]
  },
  {
   "cell_type": "code",
   "execution_count": null,
   "metadata": {},
   "outputs": [],
   "source": [
    "with open('8.txt','r') as f:\n",
    "    s = f.read()"
   ]
  },
  {
   "cell_type": "code",
   "execution_count": null,
   "metadata": {},
   "outputs": [],
   "source": [
    "ints = list(map(int,s.split()))\n",
    "tree,_ = readTree(ints.copy())"
   ]
  },
  {
   "cell_type": "code",
   "execution_count": null,
   "metadata": {},
   "outputs": [],
   "source": [
    "sumTree(tree)"
   ]
  },
  {
   "cell_type": "markdown",
   "metadata": {},
   "source": [
    "# Day 9"
   ]
  },
  {
   "cell_type": "code",
   "execution_count": null,
   "metadata": {},
   "outputs": [],
   "source": [
    "num_players = 430\n",
    "last_marble = 71588"
   ]
  },
  {
   "cell_type": "code",
   "execution_count": null,
   "metadata": {},
   "outputs": [],
   "source": [
    "position = [0,4,2,1,3]\n",
    "curr_player = 4 # player 0 exists, assume >= 5 players\n",
    "curr_index  = 1\n",
    "next_ball   = 5\n",
    "scores = [0]*num_players\n",
    "\n",
    "while next_ball <= last_marble:\n",
    "    if next_ball % 23 != 0:\n",
    "        next_index = (curr_index + 2) % len(position)\n",
    "        position.insert(next_index,next_ball)\n",
    "        curr_index = next_index\n",
    "    else:\n",
    "        scores[curr_player] += next_ball\n",
    "        next_index = (curr_index - 7) % len(position)\n",
    "        ball_picked_up = position.pop(next_index)\n",
    "        scores[curr_player] += ball_picked_up\n",
    "        curr_index = next_index % len(position)\n",
    "    next_ball += 1\n",
    "    curr_player = (curr_player + 1) % num_players\n",
    "max(scores)"
   ]
  },
  {
   "cell_type": "markdown",
   "metadata": {},
   "source": [
    "# Day 10"
   ]
  },
  {
   "cell_type": "code",
   "execution_count": null,
   "metadata": {},
   "outputs": [],
   "source": [
    "with open('10.txt','r') as f:\n",
    "    s = f.read()"
   ]
  },
  {
   "cell_type": "code",
   "execution_count": null,
   "metadata": {},
   "outputs": [],
   "source": [
    "def readLine(l):\n",
    "    position = tuple(map(int,l[10:24].split(', ')))\n",
    "    velocity = tuple(map(int,l[36:42].split(', ')))\n",
    "    return position,velocity"
   ]
  },
  {
   "cell_type": "code",
   "execution_count": null,
   "metadata": {},
   "outputs": [],
   "source": [
    "ls = list(map(readLine,s.splitlines()))\n",
    "ls[0]"
   ]
  },
  {
   "cell_type": "code",
   "execution_count": null,
   "metadata": {},
   "outputs": [],
   "source": [
    "n = 10558\n",
    "\n",
    "ls2 = [((x+n*dx,y+n*dy),(dx,dy))\n",
    "       for ((x,y),(dx,dy)) in ls\n",
    "      ]\n",
    "ls2[:10]\n",
    "x_max = max(map(lambda d:d[0][0],ls2))\n",
    "x_min = min(map(lambda d:d[0][0],ls2))\n",
    "y_max = max(map(lambda d:d[0][1],ls2))\n",
    "y_min = min(map(lambda d:d[0][1],ls2))\n",
    "print(x_min,x_max,y_min,y_max)\n",
    "\n",
    "img = Image.new( 'RGB', (x_max + 10 - x_min,y_max + 10 - y_min), \"white\") # Create a new black image\n",
    "pixels = img.load() # Create the pixel map\n",
    "for ((x,y),_) in ls2:\n",
    "    pixels[x - x_min + 5,y - y_min + 5] = (0, 0, 0) # Set the colour accordingly\n",
    "\n",
    "imshow(np.asarray(img))"
   ]
  },
  {
   "cell_type": "markdown",
   "metadata": {},
   "source": [
    "# Day 11"
   ]
  },
  {
   "cell_type": "code",
   "execution_count": null,
   "metadata": {},
   "outputs": [],
   "source": [
    "import numpy as np"
   ]
  },
  {
   "cell_type": "code",
   "execution_count": null,
   "metadata": {},
   "outputs": [],
   "source": [
    "def power_level(grid_id,x,y):\n",
    "    rack_id = x + 10\n",
    "    power = rack_id * y\n",
    "    power += grid_id\n",
    "    power *= rack_id\n",
    "    power = (power // 100) % 10\n",
    "    return power - 5"
   ]
  },
  {
   "cell_type": "code",
   "execution_count": null,
   "metadata": {},
   "outputs": [],
   "source": [
    "grid_id = 5034\n",
    "grid = np.array([[power_level(grid_id,x,y) \n",
    "                  for x in range(1,301)]\n",
    "                 for y in range(1,301)\n",
    "                ])"
   ]
  },
  {
   "cell_type": "code",
   "execution_count": null,
   "metadata": {},
   "outputs": [],
   "source": [
    "grid[44:47,32:35]"
   ]
  },
  {
   "cell_type": "code",
   "execution_count": null,
   "metadata": {},
   "outputs": [],
   "source": [
    "def get_sum(x,y,n):\n",
    "    return grid[y-1:y-1+n,x-1:x-1+n].sum()\n",
    "\n",
    "coord = (1,1,3)\n",
    "m = get_sum(1,1,3)\n",
    "for n in range(3,4):\n",
    "    print(n)\n",
    "    for x in range(1,302-n):\n",
    "        for y in range(1,302-n):\n",
    "            t = get_sum(x,y,n)\n",
    "            if t > m:\n",
    "                m = t\n",
    "                coord = (x,y,n)\n",
    "coord"
   ]
  },
  {
   "cell_type": "code",
   "execution_count": null,
   "metadata": {},
   "outputs": [],
   "source": [
    "def get_sum(x,y,n):\n",
    "    return grid[y-1:y-1+n,x-1:x-1+n].sum()\n",
    "\n",
    "coord = (1,1,3)\n",
    "m = get_sum(1,1,3)\n",
    "for n in range(3,50):\n",
    "    print(n)\n",
    "    for x in range(1,302-n):\n",
    "        for y in range(1,302-n):\n",
    "            t = get_sum(x,y,n)\n",
    "            if t > m:\n",
    "                m = t\n",
    "                coord = (x,y,n)\n",
    "    print(coord)\n",
    "coord"
   ]
  },
  {
   "cell_type": "code",
   "execution_count": null,
   "metadata": {},
   "outputs": [],
   "source": [
    "grid.shape"
   ]
  },
  {
   "cell_type": "markdown",
   "metadata": {},
   "source": [
    "# Day 12"
   ]
  },
  {
   "cell_type": "code",
   "execution_count": null,
   "metadata": {},
   "outputs": [],
   "source": [
    "s = '##..#..##....#..#..#..##.#.###.######..#..###.#.#..##.###.#.##..###..#.#..#.##.##..###.#.#...#.##..'"
   ]
  },
  {
   "cell_type": "code",
   "execution_count": null,
   "metadata": {},
   "outputs": [],
   "source": [
    "notes = \"\"\"##### => #\n",
    "##.## => #\n",
    "..##. => .\n",
    "..#.# => .\n",
    "..### => #\n",
    "#..## => #\n",
    ".#.#. => #\n",
    "#.#.# => #\n",
    "#.##. => .\n",
    "####. => .\n",
    "#..#. => #\n",
    "..#.. => .\n",
    ".#### => .\n",
    "##.#. => #\n",
    "#...# => .\n",
    ".##.# => #\n",
    "#.### => .\n",
    ".#..# => #\n",
    ".#... => #\n",
    ".##.. => #\n",
    ".###. => .\n",
    "#.... => .\n",
    "###.. => .\n",
    "##..# => .\n",
    "...## => #\n",
    "##... => .\n",
    "..... => .\n",
    "....# => .\n",
    "###.# => #\n",
    "#.#.. => .\n",
    ".#.## => #\n",
    "...#. => .\"\"\"\n",
    "\n",
    "tnotes = [l[:5] for l in notes.splitlines() if l[-1] == '#']\n",
    "tnotes"
   ]
  },
  {
   "cell_type": "code",
   "execution_count": null,
   "metadata": {},
   "outputs": [],
   "source": [
    "def go(g):\n",
    "    ps = s + ''.join(['.' for _ in range(g)])\n",
    "    ns = ''.join(['.' for _ in range(g)])\n",
    "\n",
    "    def getter(j):\n",
    "        if j>=0 and j < len(ps):\n",
    "            return ps[j]\n",
    "        elif j < 0 and abs(j) <= len(ns):\n",
    "            return ns[j]\n",
    "        else:\n",
    "            return '.'\n",
    "\n",
    "    for _ in range(g):\n",
    "        next_gen_ps = []\n",
    "        for j in range(len(ps)):\n",
    "            js = [j+d for d in range(-2,3)]\n",
    "            pattern = ''.join(map(getter,js))\n",
    "            if pattern in tnotes:\n",
    "                next_gen_ps.append('#')\n",
    "            else:\n",
    "                next_gen_ps.append('.')\n",
    "\n",
    "        next_gen_ns = []\n",
    "        for j in range(-1*len(ns),0):\n",
    "            js = [j+d for d in range(-2,3)]\n",
    "            pattern = ''.join(map(getter,js))\n",
    "            if pattern in tnotes:\n",
    "                next_gen_ns.append('#')\n",
    "            else:\n",
    "                next_gen_ns.append('.')\n",
    "\n",
    "        ps = ''.join(next_gen_ps)\n",
    "        ns = ''.join(next_gen_ns)\n",
    "\n",
    "    i = 0\n",
    "    for j in range(-1*len(ns),len(ps)):\n",
    "        if getter(j) == '#':\n",
    "            i+=j\n",
    "    return i"
   ]
  },
  {
   "cell_type": "code",
   "execution_count": null,
   "metadata": {},
   "outputs": [],
   "source": [
    "go(20)"
   ]
  },
  {
   "cell_type": "code",
   "execution_count": null,
   "metadata": {},
   "outputs": [],
   "source": [
    "gs = [go(g) for g in range(200,300)]"
   ]
  },
  {
   "cell_type": "code",
   "execution_count": null,
   "metadata": {},
   "outputs": [],
   "source": [
    "def go2(g):\n",
    "    \"Works for large g\"\n",
    "    return 19614 + 86*(g-200)\n",
    "go2(250)"
   ]
  },
  {
   "cell_type": "code",
   "execution_count": null,
   "metadata": {},
   "outputs": [],
   "source": [
    "go(250)"
   ]
  },
  {
   "cell_type": "code",
   "execution_count": null,
   "metadata": {},
   "outputs": [],
   "source": [
    "go2(50000000000)"
   ]
  },
  {
   "cell_type": "markdown",
   "metadata": {},
   "source": [
    "# Day 13"
   ]
  },
  {
   "cell_type": "code",
   "execution_count": null,
   "metadata": {},
   "outputs": [],
   "source": [
    "s = \"\"\"/->-\\\\        \n",
    "|   |  /----\\\\\n",
    "| /-+--+-\\  |\n",
    "| | |  | v  |\n",
    "\\-+-/  \\-+--/\n",
    "  \\------/   \"\"\"\n",
    "print(s)"
   ]
  },
  {
   "cell_type": "code",
   "execution_count": null,
   "metadata": {},
   "outputs": [],
   "source": [
    "with open('13.txt','r') as f:\n",
    "    s = f.read()"
   ]
  },
  {
   "cell_type": "code",
   "execution_count": null,
   "metadata": {},
   "outputs": [],
   "source": [
    "track = [list(l) for l in s.splitlines()]\n",
    "w = len(track[0])\n",
    "h = len(track)\n",
    "carts = []\n",
    "for y in range(h):\n",
    "    for x in range(w):\n",
    "        if track[y][x] in 'v^<>':\n",
    "            carts.append((y,x,track[y][x],'left'))\n",
    "            if track[y][x] in 'v^':\n",
    "                track[y][x] = '|'\n",
    "            else:\n",
    "                track[y][x] = '-'\n",
    "carts"
   ]
  },
  {
   "cell_type": "code",
   "execution_count": null,
   "metadata": {},
   "outputs": [],
   "source": [
    "while True:\n",
    "    carts.sort()\n",
    "    for i,(y,x,c,d) in enumerate(carts):\n",
    "        if c == '>':\n",
    "            x+=1\n",
    "        elif c == '<':\n",
    "            x-=1\n",
    "        elif c == 'v':\n",
    "            y+=1\n",
    "        elif c == '^':\n",
    "            y-=1\n",
    "        if any(x2 == x and y2 == y for y2,x2,_,_ in carts):\n",
    "            raise Exception(x,y)\n",
    "\n",
    "        if track[y][x] == '+':\n",
    "            if d == 'left':\n",
    "                d = 'straight'\n",
    "                if c == '>':\n",
    "                    c = '^'\n",
    "                elif c == '<':\n",
    "                    c = 'v'\n",
    "                elif c == 'v':\n",
    "                    c = '>'\n",
    "                elif c == '^':\n",
    "                    c = '<'\n",
    "            elif d == 'straight':\n",
    "                d = 'right'\n",
    "            elif d == 'right':\n",
    "                d = 'left'\n",
    "                if c == '>':\n",
    "                    c = 'v'\n",
    "                elif c == '<':\n",
    "                    c = '^'\n",
    "                elif c == 'v':\n",
    "                    c = '<'\n",
    "                elif c == '^':\n",
    "                    c = '>'\n",
    "        elif track[y][x] == '/':\n",
    "            if c == '>':\n",
    "                c = '^'\n",
    "            elif c == '<':\n",
    "                c = 'v'\n",
    "            elif c == 'v':\n",
    "                c = '<'\n",
    "            elif c == '^':\n",
    "                c = '>'\n",
    "        elif track[y][x] == '\\\\':\n",
    "            if c == '>':\n",
    "                c = 'v'\n",
    "            elif c == '<':\n",
    "                c = '^'\n",
    "            elif c == 'v':\n",
    "                c = '>'\n",
    "            elif c == '^':\n",
    "                c = '<'\n",
    "        carts[i] = (y,x,c,d)"
   ]
  },
  {
   "cell_type": "code",
   "execution_count": null,
   "metadata": {},
   "outputs": [],
   "source": [
    "s = \"\"\"/>-<\\\\  \n",
    "|   |  \n",
    "| /<+-\\\\\n",
    "| | | v\n",
    "\\>+</ |\n",
    "  |   ^\n",
    "  \\<->/\"\"\""
   ]
  },
  {
   "cell_type": "code",
   "execution_count": null,
   "metadata": {},
   "outputs": [],
   "source": [
    "track = [list(l) for l in s.splitlines()]\n",
    "w = len(track[0])\n",
    "h = len(track)\n",
    "carts = []\n",
    "for y in range(h):\n",
    "    for x in range(w):\n",
    "        if track[y][x] in 'v^<>':\n",
    "            carts.append((y,x,track[y][x],'left'))\n",
    "            if track[y][x] in 'v^':\n",
    "                track[y][x] = '|'\n",
    "            else:\n",
    "                track[y][x] = '-'\n",
    "carts"
   ]
  },
  {
   "cell_type": "code",
   "execution_count": null,
   "metadata": {},
   "outputs": [],
   "source": [
    "t = 0\n",
    "while len(carts) > 1 and t < 100000:\n",
    "    t += 1\n",
    "    carts.sort()\n",
    "    crashes = set()\n",
    "    for i,(y,x,c,d) in enumerate(carts):\n",
    "        if i in crashes:\n",
    "            continue\n",
    "        if c == '>':\n",
    "            x+=1\n",
    "        elif c == '<':\n",
    "            x-=1\n",
    "        elif c == 'v':\n",
    "            y+=1\n",
    "        elif c == '^':\n",
    "            y-=1\n",
    "        this_crashes = set(j for j,(y2,x2,_,_) in enumerate(carts) if x2 == x and y2 == y)\n",
    "        if len(this_crashes) != 0:\n",
    "            crashes |= this_crashes\n",
    "            crashes.add(i)\n",
    "\n",
    "        if track[y][x] == '+':\n",
    "            if d == 'left':\n",
    "                d = 'straight'\n",
    "                if c == '>':\n",
    "                    c = '^'\n",
    "                elif c == '<':\n",
    "                    c = 'v'\n",
    "                elif c == 'v':\n",
    "                    c = '>'\n",
    "                elif c == '^':\n",
    "                    c = '<'\n",
    "            elif d == 'straight':\n",
    "                d = 'right'\n",
    "            elif d == 'right':\n",
    "                d = 'left'\n",
    "                if c == '>':\n",
    "                    c = 'v'\n",
    "                elif c == '<':\n",
    "                    c = '^'\n",
    "                elif c == 'v':\n",
    "                    c = '<'\n",
    "                elif c == '^':\n",
    "                    c = '>'\n",
    "        elif track[y][x] == '/':\n",
    "            if c == '>':\n",
    "                c = '^'\n",
    "            elif c == '<':\n",
    "                c = 'v'\n",
    "            elif c == 'v':\n",
    "                c = '<'\n",
    "            elif c == '^':\n",
    "                c = '>'\n",
    "        elif track[y][x] == '\\\\':\n",
    "            if c == '>':\n",
    "                c = 'v'\n",
    "            elif c == '<':\n",
    "                c = '^'\n",
    "            elif c == 'v':\n",
    "                c = '>'\n",
    "            elif c == '^':\n",
    "                c = '<'\n",
    "        carts[i] = (y,x,c,d)\n",
    "    # print(crashes)\n",
    "    for i in reversed(sorted(crashes)):\n",
    "        del carts[i]\n",
    "    # print(carts)\n",
    "carts"
   ]
  },
  {
   "cell_type": "markdown",
   "metadata": {},
   "source": [
    "# Day 14"
   ]
  },
  {
   "cell_type": "code",
   "execution_count": null,
   "metadata": {},
   "outputs": [],
   "source": [
    "g = 760221"
   ]
  },
  {
   "cell_type": "code",
   "execution_count": null,
   "metadata": {},
   "outputs": [],
   "source": [
    "s = [3,7]\n",
    "e1 = 0\n",
    "e2 = 1\n",
    "\n",
    "while len(s) < g + 10:\n",
    "    new = s[e1] + s[e2]\n",
    "    if new >= 10:\n",
    "        s.append(new // 10)\n",
    "    s.append(new % 10)\n",
    "    e1 = (e1 + s[e1] + 1) % len(s)\n",
    "    e2 = (e2 + s[e2] + 1) % len(s)\n",
    "''.join(str(r) for r in s[g:g+10])"
   ]
  },
  {
   "cell_type": "code",
   "execution_count": null,
   "metadata": {},
   "outputs": [],
   "source": [
    "g = '760221'"
   ]
  },
  {
   "cell_type": "code",
   "execution_count": null,
   "metadata": {},
   "outputs": [],
   "source": [
    "s = '37'\n",
    "ss = [3,7]\n",
    "e1 = 0\n",
    "e2 = 1\n",
    "\n",
    "while g not in s[-10:]:\n",
    "    new = ss[e1] + ss[e2]\n",
    "    s += str(new)\n",
    "    if new >= 10:\n",
    "        ss.append(new // 10)\n",
    "    ss.append(new % 10)\n",
    "    e1 = (e1 + ss[e1] + 1) % len(s)\n",
    "    e2 = (e2 + ss[e2] + 1) % len(s)\n",
    "s.index(g)"
   ]
  },
  {
   "cell_type": "markdown",
   "metadata": {},
   "source": [
    "# Day 15"
   ]
  },
  {
   "cell_type": "code",
   "execution_count": null,
   "metadata": {},
   "outputs": [],
   "source": [
    "import numpy as np"
   ]
  },
  {
   "cell_type": "code",
   "execution_count": null,
   "metadata": {},
   "outputs": [],
   "source": [
    "s = \"\"\"#######\n",
    "#.G...#\n",
    "#...EG#\n",
    "#.#.#G#\n",
    "#..G#E#\n",
    "#.....#\n",
    "#######\"\"\""
   ]
  },
  {
   "cell_type": "code",
   "execution_count": null,
   "metadata": {},
   "outputs": [],
   "source": [
    "s = \"\"\"#######\n",
    "#G..#E#\n",
    "#E#E.E#\n",
    "#G.##.#\n",
    "#...#E#\n",
    "#...E.#\n",
    "#######\"\"\""
   ]
  },
  {
   "cell_type": "code",
   "execution_count": null,
   "metadata": {},
   "outputs": [],
   "source": [
    "with open('15.txt','r') as f:\n",
    "    s = f.read()"
   ]
  },
  {
   "cell_type": "code",
   "execution_count": null,
   "metadata": {},
   "outputs": [],
   "source": [
    "def distance(p1,p2,open_squares):\n",
    "    \"Returns None if the square isn't reachable\"\n",
    "    i = 0\n",
    "    seen = set()\n",
    "    new  = set([p1])\n",
    "    while p2 not in new:\n",
    "        i+=1\n",
    "        seen |= new\n",
    "        newer = set()\n",
    "        for x1,y1 in new:\n",
    "            newer |= set([(x,y) \n",
    "                 for x,y in [(x1+1,y1),(x1-1,y1),(x1,y1+1),(x1,y1-1)] \n",
    "                 if (x,y) not in seen and open_squares[y,x]])\n",
    "        if len(newer) == 0:\n",
    "            return None\n",
    "        new = newer\n",
    "    return i\n",
    "    \n",
    "def adjacent(p1,p2):\n",
    "    x1,y1 = p1\n",
    "    x2,y2 = p2\n",
    "    return abs(x1 - x2) + abs(y1-y2) == 1"
   ]
  },
  {
   "cell_type": "code",
   "execution_count": null,
   "metadata": {},
   "outputs": [],
   "source": [
    "def move_unit(units,open_squares,unit):\n",
    "    this_y,this_x,_,c = unit[0],unit[1],unit[2],unit[3]\n",
    "    target_squares = set()\n",
    "    opposing = [u for u in units if u[3] != c and u[2] > 0]\n",
    "    for o in opposing:\n",
    "        y1 = o[0]\n",
    "        x1 = o[1]\n",
    "        target_squares |= set([(x1+1,y1),(x1-1,y1),(x1,y1+1),(x1,y1-1)])\n",
    "    if (this_x,this_y) in target_squares:\n",
    "        return this_x,this_y\n",
    "    else:\n",
    "        target_squares = [(x,y) for x,y in target_squares if open_squares[y,x]]\n",
    "        ds = [(distance((this_x,this_y),p,open_squares),p) for p in target_squares]\n",
    "        ds = sorted(((d,p) for d,p in ds if d is not None),key=lambda x: (x[0],x[1][1],x[1][0]))\n",
    "        if len(ds) == 0:\n",
    "            return this_x,this_y\n",
    "        else:\n",
    "            anything_moved_or_died = True\n",
    "            target = ds[0][1]\n",
    "            possible_moves = [(this_x+1,this_y),(this_x-1,this_y),(this_x,this_y+1),(this_x,this_y-1)]\n",
    "            possible_moves = [(x,y) for x,y in possible_moves if open_squares[y,x]]\n",
    "            if len(possible_moves) == 0:\n",
    "                return this_x,this_y\n",
    "            ds = [distance(target,p,open_squares) for p in possible_moves]\n",
    "            ds = sorted(((d,p) for d,p in zip(ds,possible_moves) if d is not None),key=lambda x: (x[0],x[1][1],x[1][0]))\n",
    "            return ds[0][1]"
   ]
  },
  {
   "cell_type": "code",
   "execution_count": null,
   "metadata": {},
   "outputs": [],
   "source": [
    "def run_battle(open_squares,units,max_turns = 100):\n",
    "    open_squares = open_squares.copy()\n",
    "    units = units.copy()\n",
    "    \n",
    "    battle_over = False\n",
    "    turns = 0\n",
    "\n",
    "    anything_moved_or_died_last_round = True\n",
    "    while not battle_over and turns < max_turns:\n",
    "        anything_moved_or_died = False\n",
    "        units = sorted(u for u in units if u[2]>0)\n",
    "        for unit in units:\n",
    "            this_y,this_x,hp,c = unit[0],unit[1],unit[2],unit[3]\n",
    "            if hp <= 0:\n",
    "                continue\n",
    "            opposing = [u for u in units if u[3] != c and u[2] > 0]\n",
    "            if len(opposing) == 0:\n",
    "                battle_over = True\n",
    "                break\n",
    "            if anything_moved_or_died_last_round or anything_moved_or_died:\n",
    "                x,y = move_unit(units,open_squares,unit)\n",
    "                if (x,y) != (this_x,this_y):\n",
    "                    anything_moved_or_died = True\n",
    "                    open_squares[this_y,this_x] = True\n",
    "                    open_squares[y,x] = False\n",
    "                    unit[0] = y\n",
    "                    unit[1] = x\n",
    "            else:\n",
    "                x,y = this_x,this_y\n",
    "            targets = [o for o in opposing if adjacent((x,y),(o[1],o[0]))]\n",
    "            if len(targets) > 0:\n",
    "                t = sorted(targets,key= lambda t: (t[2],t[0],t[1]))[0]\n",
    "                t[2] -= 3\n",
    "                if t[2] <= 0:\n",
    "                    anything_moved_or_died = True\n",
    "                    open_squares[t[0],t[1]] = True\n",
    "        if not battle_over:\n",
    "            anything_moved_or_died_last_round = anything_moved_or_died\n",
    "            turns += 1\n",
    "    units = sorted(u for u in units if u[2]>0)\n",
    "    return units,turns"
   ]
  },
  {
   "cell_type": "code",
   "execution_count": null,
   "metadata": {},
   "outputs": [],
   "source": [
    "open_squares = [[c == '.' for x,c in enumerate(l)]\n",
    "                for y,l in enumerate(s.splitlines())]\n",
    "open_squares = np.array(open_squares)\n",
    "\n",
    "units = [[y,x,200,c]\n",
    "         for y,l in enumerate(s.splitlines())\n",
    "         for x,c in enumerate(l)\n",
    "         if c in 'GE']\n",
    "\n",
    "units,turns = run_battle(open_squares,units)\n",
    "\n",
    "sum(t[2] for t in units)*turns"
   ]
  },
  {
   "cell_type": "code",
   "execution_count": null,
   "metadata": {},
   "outputs": [],
   "source": [
    "import copy"
   ]
  },
  {
   "cell_type": "code",
   "execution_count": null,
   "metadata": {},
   "outputs": [],
   "source": [
    "def run_battle(open_squares,units,max_turns = 100,elf_attack = 3):\n",
    "    open_squares = open_squares.copy()\n",
    "    units = copy.deepcopy(units)\n",
    "    \n",
    "    battle_over = False\n",
    "    turns = 0\n",
    "\n",
    "    anything_moved_or_died_last_round = True\n",
    "    while not battle_over and turns < max_turns:\n",
    "        anything_moved_or_died = False\n",
    "        units = sorted(u for u in units if u[2]>0)\n",
    "        for unit in units:\n",
    "            this_y,this_x,hp,c = unit[0],unit[1],unit[2],unit[3]\n",
    "            if hp <= 0:\n",
    "                continue\n",
    "            opposing = [u for u in units if u[3] != c and u[2] > 0]\n",
    "            if len(opposing) == 0:\n",
    "                battle_over = True\n",
    "                break\n",
    "            if anything_moved_or_died_last_round or anything_moved_or_died:\n",
    "                x,y = move_unit(units,open_squares,unit)\n",
    "                if (x,y) != (this_x,this_y):\n",
    "                    anything_moved_or_died = True\n",
    "                    open_squares[this_y,this_x] = True\n",
    "                    open_squares[y,x] = False\n",
    "                    unit[0] = y\n",
    "                    unit[1] = x\n",
    "            else:\n",
    "                x,y = this_x,this_y\n",
    "            targets = [o for o in opposing if adjacent((x,y),(o[1],o[0]))]\n",
    "            if len(targets) > 0:\n",
    "                t = sorted(targets,key= lambda t: (t[2],t[0],t[1]))[0]\n",
    "                t[2] -= 3 if c == 'G' else elf_attack\n",
    "                if t[2] <= 0:\n",
    "                    if t[3] == 'E':\n",
    "                        return units,turns,False\n",
    "                    anything_moved_or_died = True\n",
    "                    open_squares[t[0],t[1]] = True\n",
    "        if not battle_over:\n",
    "            anything_moved_or_died_last_round = anything_moved_or_died\n",
    "            turns += 1\n",
    "    units = sorted(u for u in units if u[2]>0)\n",
    "    return units,turns,True"
   ]
  },
  {
   "cell_type": "code",
   "execution_count": null,
   "metadata": {},
   "outputs": [],
   "source": [
    "open_squares = [[c == '.' for x,c in enumerate(l)]\n",
    "                for y,l in enumerate(s.splitlines())]\n",
    "open_squares = np.array(open_squares)\n",
    "\n",
    "units = [[y,x,200,c]\n",
    "         for y,l in enumerate(s.splitlines())\n",
    "         for x,c in enumerate(l)\n",
    "         if c in 'GE']\n",
    "\n",
    "elf_attack = 3\n",
    "elves_survived = False\n",
    "num_elfs = len([t for t in units if t[3]=='E'])\n",
    "while not elves_survived:\n",
    "    this_units,turns,elves_survived = run_battle(open_squares,units,elf_attack = elf_attack)\n",
    "    print(elf_attack,turns)\n",
    "    if not elves_survived:\n",
    "        elf_attack+=1\n",
    "\n",
    "sum(t[2] for t in this_units)*turns"
   ]
  },
  {
   "cell_type": "markdown",
   "metadata": {},
   "source": [
    "# Day 17"
   ]
  },
  {
   "cell_type": "code",
   "execution_count": null,
   "metadata": {},
   "outputs": [],
   "source": [
    "import numpy as np"
   ]
  },
  {
   "cell_type": "code",
   "execution_count": null,
   "metadata": {},
   "outputs": [],
   "source": [
    "s = \"\"\"x=495, y=2..7\n",
    "y=7, x=495..501\n",
    "x=501, y=3..7\n",
    "x=498, y=2..4\n",
    "x=506, y=1..2\n",
    "x=498, y=10..13\n",
    "x=504, y=10..13\n",
    "y=13, x=498..504\"\"\""
   ]
  },
  {
   "cell_type": "code",
   "execution_count": null,
   "metadata": {},
   "outputs": [],
   "source": [
    "with open('17.txt','r') as f:\n",
    "    s = f.read()"
   ]
  },
  {
   "cell_type": "code",
   "execution_count": null,
   "metadata": {},
   "outputs": [],
   "source": [
    "def readLine(l):\n",
    "    ss = l.split(', ')\n",
    "    first = ss[0]\n",
    "    second = ss[1]\n",
    "    if first[0] == 'x':\n",
    "        x = int(first[2:])\n",
    "        ys = second[2:].split('..')\n",
    "        for y in range(int(ys[0]),int(ys[1])+1):\n",
    "            yield x,y\n",
    "    else:\n",
    "        y = int(first[2:])\n",
    "        xs = second[2:].split('..')\n",
    "        for x in range(int(xs[0]),int(xs[1])+1):\n",
    "            yield x,y"
   ]
  },
  {
   "cell_type": "code",
   "execution_count": null,
   "metadata": {},
   "outputs": [],
   "source": [
    "raw_clay_points = [p for l in s.splitlines() for p in readLine(l)]\n",
    "\n",
    "max_y = max(t[1] for t in raw_clay_points)\n",
    "min_y = min(t[1] for t in raw_clay_points)\n",
    "max_x = max(t[0] for t in raw_clay_points)\n",
    "min_x = min(t[0] for t in raw_clay_points)\n",
    "((min_x,max_x),(min_y,max_y))"
   ]
  },
  {
   "cell_type": "code",
   "execution_count": null,
   "metadata": {},
   "outputs": [],
   "source": [
    "water_x = 500 - min_x + 1\n",
    "clay_points = set((x  - min_x + 1,y-min_y) for x,y in raw_clay_points)\n",
    "\n",
    "max_y = max(t[1] for t in clay_points)\n",
    "min_y = min(t[1] for t in clay_points)\n",
    "max_x = max(t[0] for t in clay_points)\n",
    "min_x = min(t[0] for t in clay_points)\n",
    "((min_x,max_x),(min_y,max_y))"
   ]
  },
  {
   "cell_type": "code",
   "execution_count": null,
   "metadata": {},
   "outputs": [],
   "source": [
    "len(clay_points)"
   ]
  },
  {
   "cell_type": "code",
   "execution_count": null,
   "metadata": {},
   "outputs": [],
   "source": [
    "water_hits = np.zeros((max_y+1,max_x+2),dtype=bool)\n",
    "\n",
    "def goDown(first_x,first_y):\n",
    "    x,y = first_x,first_y\n",
    "    while (x,y) not in clay_points:\n",
    "        water_hits[y,x] = True\n",
    "        y+=1\n",
    "        if y-1 == max_y:\n",
    "            break\n",
    "    if y-1 != max_y:\n",
    "        building = True\n",
    "        while building:\n",
    "            y -= 1\n",
    "            l = goLeft(x,y)\n",
    "            r = goRight(x,y)\n",
    "            building = l and r\n",
    "    \n",
    "def goLeft(first_x,first_y):\n",
    "    x,y = first_x,first_y\n",
    "    while (x,y) not in clay_points:\n",
    "        water_hits[y,x] = True\n",
    "        if (x,y+1) not in clay_points and not water_hits[y+1,x]:\n",
    "            break\n",
    "        else:\n",
    "            x-=1\n",
    "    if (x,y+1) not in clay_points and not water_hits[y+1,x] and water_hits[y,x]:\n",
    "        goDown(x,y)\n",
    "    else: \n",
    "        return True\n",
    "        \n",
    "def goRight(first_x,first_y):\n",
    "    x,y = first_x,first_y\n",
    "    while (x,y) not in clay_points:\n",
    "        water_hits[y,x] = True\n",
    "        if (x,y+1) not in clay_points and not water_hits[y+1,x]:\n",
    "            break\n",
    "        else:\n",
    "            x+=1\n",
    "    if (x,y+1) not in clay_points and not water_hits[y+1,x] and water_hits[y,x]:\n",
    "        goDown(x,y)\n",
    "    else: \n",
    "        return True\n",
    "    \n",
    "goDown(water_x,0)"
   ]
  },
  {
   "cell_type": "code",
   "execution_count": null,
   "metadata": {},
   "outputs": [],
   "source": [
    "def draw_ascii():\n",
    "    return '\\n'.join(''.join('#' if (x,y) in clay_points else '~' if water_hits[y,x] else '.'\n",
    "               for x in range(max_x+2))\n",
    "              for y in range(max_y+1))\n",
    "print(draw_ascii())"
   ]
  },
  {
   "cell_type": "markdown",
   "metadata": {},
   "source": [
    "# Day 18"
   ]
  },
  {
   "cell_type": "code",
   "execution_count": null,
   "metadata": {},
   "outputs": [],
   "source": [
    "import numpy as np"
   ]
  },
  {
   "cell_type": "code",
   "execution_count": null,
   "metadata": {},
   "outputs": [],
   "source": [
    "with open('18.txt','r') as f:\n",
    "    s = f.read()"
   ]
  },
  {
   "cell_type": "code",
   "execution_count": null,
   "metadata": {},
   "outputs": [],
   "source": [
    "s = \"\"\".#.#...|#.\n",
    ".....#|##|\n",
    ".|..|...#.\n",
    "..|#.....#\n",
    "#.#|||#|#|\n",
    "...#.||...\n",
    ".|....|...\n",
    "||...#|.#|\n",
    "|.||||..|.\n",
    "...#.|..|.\"\"\""
   ]
  },
  {
   "cell_type": "code",
   "execution_count": null,
   "metadata": {},
   "outputs": [],
   "source": [
    "def c_to_i(c):\n",
    "    return 0 if c == '.' else 1 if c == '|' else 2 # "
   ]
  },
  {
   "cell_type": "code",
   "execution_count": null,
   "metadata": {},
   "outputs": [],
   "source": [
    "arr = np.array([[c_to_i(c) for c in l] for l in s.splitlines()])\n",
    "arr"
   ]
  },
  {
   "cell_type": "code",
   "execution_count": null,
   "metadata": {},
   "outputs": [],
   "source": [
    "open_arr = np.array([[c == '.' for c in l] for l in s.splitlines()])\n",
    "tree_arr = np.array([[c == '|' for c in l] for l in s.splitlines()])\n",
    "yard_arr = np.array([[c == '#' for c in l] for l in s.splitlines()])"
   ]
  },
  {
   "cell_type": "code",
   "execution_count": null,
   "metadata": {},
   "outputs": [],
   "source": [
    "(ymax,xmax)=open_arr.shape\n",
    "def is_open(open,tree,yard,i,j):\n",
    "    min_x = max(i-1,0)\n",
    "    min_y = max(j-1,0)\n",
    "    max_x = min(i+2,xmax)\n",
    "    max_y = min(j+2,ymax)\n",
    "    if open[j,i]:\n",
    "        if tree[min_y:max_y,min_x:max_x].sum()>=3:\n",
    "            return False\n",
    "        else:\n",
    "            return True\n",
    "    elif tree[j,i]:\n",
    "        return False\n",
    "    else:\n",
    "        if yard[min_y:max_y,min_x:max_x].sum()>=2 and tree[min_y:max_y,min_x:max_x].sum()>=1:\n",
    "            return False\n",
    "        else:\n",
    "            return True\n",
    "\n",
    "def is_tree(open,tree,yard,i,j):\n",
    "    min_x = max(i-1,0)\n",
    "    min_y = max(j-1,0)\n",
    "    max_x = min(i+2,xmax)\n",
    "    max_y = min(j+2,ymax)\n",
    "    if open[j,i]:\n",
    "        if tree[min_y:max_y,min_x:max_x].sum()>=3:\n",
    "            return True\n",
    "        else:\n",
    "            return False\n",
    "    elif tree[j,i]:\n",
    "        if yard[min_y:max_y,min_x:max_x].sum()>=3:\n",
    "            return False\n",
    "        else:\n",
    "            return True\n",
    "    else:\n",
    "        return False\n",
    "    \n",
    "def is_yard(open,tree,yard,i,j):\n",
    "    min_x = max(i-1,0)\n",
    "    min_y = max(j-1,0)\n",
    "    max_x = min(i+2,xmax)\n",
    "    max_y = min(j+2,ymax)\n",
    "    if open[j,i]:\n",
    "        return False\n",
    "    elif tree[j,i]:\n",
    "        if yard[min_y:max_y,min_x:max_x].sum()>=3:\n",
    "            return True\n",
    "        else:\n",
    "            return False\n",
    "    else:\n",
    "        if yard[min_y:max_y,min_x:max_x].sum()>=2 and tree[min_y:max_y,min_x:max_x].sum()>=1:\n",
    "            return True\n",
    "        else:\n",
    "            return False\n",
    "        \n",
    "def apply_min(open,tree,yard):\n",
    "    open2 = np.array([[is_open(open,tree,yard,x,y)\n",
    "                       for x in range(xmax)] \n",
    "                      for y in range(ymax)])\n",
    "    tree2 = np.array([[is_tree(open,tree,yard,x,y)\n",
    "                       for x in range(xmax)] \n",
    "                      for y in range(ymax)])\n",
    "    yard2 = np.array([[is_yard(open,tree,yard,x,y)\n",
    "                       for x in range(xmax)] \n",
    "                      for y in range(ymax)])\n",
    "    return open2,tree2,yard2 "
   ]
  },
  {
   "cell_type": "code",
   "execution_count": null,
   "metadata": {},
   "outputs": [],
   "source": [
    "def draw(open,tree,yard):\n",
    "    def c(i,j):\n",
    "        return '.' if open[j,i] else '|' if tree[j,i] else '#'\n",
    "    return '\\n'.join(''.join(c(i,j) for i in range(xmax)) for j in range(ymax))"
   ]
  },
  {
   "cell_type": "code",
   "execution_count": null,
   "metadata": {},
   "outputs": [],
   "source": [
    "# open,tree,yard = open_arr,tree_arr,yard_arr\n",
    "minutes = 100\n",
    "show = False\n",
    "\n",
    "for i in range(minutes):\n",
    "    if show:\n",
    "        print('After',i,'minutes:')\n",
    "        print(draw(open,tree,yard))\n",
    "        print()\n",
    "    \n",
    "    open,tree,yard = apply_min(open,tree,yard)\n",
    "    \n",
    "print('After',minutes,'minutes:')\n",
    "print(draw(open,tree,yard))\n",
    "\n",
    "print()\n",
    "print('Resource Value:',tree.sum()*yard.sum())"
   ]
  },
  {
   "cell_type": "markdown",
   "metadata": {},
   "source": [
    "# Day 19"
   ]
  },
  {
   "cell_type": "markdown",
   "metadata": {},
   "source": [
    "# Day 20"
   ]
  },
  {
   "cell_type": "code",
   "execution_count": null,
   "metadata": {
    "ExecuteTime": {
     "end_time": "2022-06-19T22:44:07.455146Z",
     "start_time": "2022-06-19T22:44:07.452940Z"
    }
   },
   "outputs": [],
   "source": []
  },
  {
   "cell_type": "code",
   "execution_count": null,
   "metadata": {
    "ExecuteTime": {
     "end_time": "2022-06-19T22:44:09.639050Z",
     "start_time": "2022-06-19T22:44:09.634971Z"
    }
   },
   "outputs": [],
   "source": [
    "string"
   ]
  },
  {
   "cell_type": "code",
   "execution_count": null,
   "metadata": {
    "ExecuteTime": {
     "end_time": "2022-06-19T22:42:19.909286Z",
     "start_time": "2022-06-19T22:42:19.905885Z"
    }
   },
   "outputs": [],
   "source": [
    "def go(coord, direction):\n",
    "    x,y = coord\n",
    "    ds = {\n",
    "        'N': (0,1),\n",
    "        'E': (1,0),\n",
    "        'W': (-1,0),\n",
    "        'S': (0,-1)\n",
    "    }\n",
    "    dx, dy = ds[direction]\n",
    "    return (x+dx,y+dy)"
   ]
  },
  {
   "cell_type": "code",
   "execution_count": null,
   "metadata": {
    "ExecuteTime": {
     "end_time": "2022-06-19T22:42:29.942730Z",
     "start_time": "2022-06-19T22:42:29.939224Z"
    }
   },
   "outputs": [],
   "source": [
    "go((4,2),'N')"
   ]
  },
  {
   "cell_type": "code",
   "execution_count": null,
   "metadata": {
    "ExecuteTime": {
     "end_time": "2022-06-19T23:42:30.709636Z",
     "start_time": "2022-06-19T23:42:30.706009Z"
    }
   },
   "outputs": [],
   "source": [
    "string = \"^NESSWSSWWSESWSEESEEENNNENNWSWN(NENNESSEENWNENEESSESSENNNNW(S|NWWNWNNEES(ENNNNNNESENENEESESSESENENWNW(S|NNNENNESENNEEESSWSESSWSWNWW(N(WSNE|)EN(W|E(SE|NNE))|SESEEESENESESSSSSWSEESEESSESEENESSESSSSWSESSWSSSENNEEESSWSEENESESWSEENNENENNWNWNWWWWWS(EESSEEE(E|NWNWS|SW)|WNNEENEENNEESEENWNNENNESSENNNNWSWNNNWNWSSWWWNWNWWWSSSWWNNWWWW(SEEESS(WNSE|)(S|EEEENNE(NWES|)SSSESEESS(EENNW(S|NENN(E(SSS|N)|WSWNWW(SESEWNWN|)N))|WSSWNWSW(SEWN|)NNEEN(WNW(NWSNES|)S|E)))|NEEEENE(SSS|ENNEEESES(WWWNEWSEEE|)SEE(SWEN|)NNENNNNNEESWSEEESSSWNWSS(EESW(W|SES(ENNESSESWSW(SSSESEEENNWNN(NE(NNNWNW(SSESNWNN|)WNNW(SS|NEENEE(NWNWSWW(SEWN|)WWNENNENEENEE(SWSES(WWNWSSWN(SENNESNWSSWN|)|S)|NWNNWSSWWWWNNNNNNENENNNWNNWSSWSSWWSWWWNWWWSSESWWWWSESEEN(EENESENESSESESE(NNWNENNN(ENNESNWSSW|)WSSW(NWWWWNW(ESEEEEWWWWNW|)|S)|SWSWWSESEEE(NEN(WWSWENEE|)EE|SWWWWSSWSESSW(WN(WWNNNEE(SSWNSENN|)NE(S|N(E|NNWNEEN(ESNW|)WWWWWSSSSS(EENN(ESNW|)W(NENWESWS|)S|WWSSEE(NWES|)SWWWSWWSSE(NEE(NEE|SW)|SWWNNWW(SESWSS|NENWWNNESEENWNENWWSWNNNNWSW(NNEENNNEEENNWWNWSS(WWSSE(N|SWWSWWNENWNNESE(NNNWSWNNWWWWSWWNWNNENWWSSSSWNNWNENWNENEES(W|ENNENNWNWWSES(E|SWNWWWNNNNEENWWWSWWSWWNWNNWWNWWSSE(SWSWSWSWWNWWWWSWWSWWNNNES(ENNNENWNNWSWSESSWWN(E|NNNENWWNEENWNENWWWWNEENESEESSSSENNENESSSSW(NN|WW|SEESW(W|SSSWS(S|EENESEEE(ENNNE(SS|NNWNNNENNWWWWNENN(EEESWWSEEENNESESSW(WSEEEESENESSWWWNWWSW(N|WSESEEN(W|EEEESSW(WN(WSNE|)E|SEEE(NWNNESESSENENESEENNENENWWNWNNWWNEN(WWWWSSEE(NWES|)SESE(SES(WWNWSW(SE(EEESNWWW|)S|WNW(NEE(NWWNNNWWSWW(SES(W|ENE(S|N))|N(W|E))|S|E)|S))|E)|N)|EES(ESS(WNSE|)EENEESSENNNN(WSWNWSW(NWES|)S|EEESSENNESEEN(W|EEEESEEEN(WW|EEESSWSSEEN(W|NENESESSWW(NEWS|)SWWWWSESWSSENENNESSESEENNESSESSESENNNNENWWS(SS|WNNEEEESSSSW(SSSWSWWSESESES(SES(ENNEE(SSW(SSWW(NEWS|)SEEE(NN|SWWSSENESSWS(ESSNNW|)WWN(WSW(SEESWW|NNENE(N|S))|E))|N)|NWWNENWWN(NENENNW(SWSNEN|)NEE(SSSSS(SS|W(N|W))|NWNNNW(SSS|WWWNWWS(W(NNNNEN(ESESS(WWNEWSEE|)EENEESE(NNNWWWS(EE|W(NWES|)S)|S(WW(WW|N)|SSS))|WW(WWWSNEEE|)S)|WWS(EE|S(WNSE|)S))|E)))|WS(SESSNNWN|)W))|W)|WWWSSWWWWSEES(ENSW|)WW(SEWN|)WWNNE(S|NWNNWWWSEESSSWNWWSWNWWNNWSSSWSEEE(NWES|)ESSS(EENWNEN(W|N|EE)|WNW(SSESWSWWSW(N|SESSS(WNNSSE|)EENEEENNN(E(EENESENESE(WNWSWNSENESE|)|SSSSWS(E|WNWSWSEESWWSS(ENE|WS)))|WNWSWSS(ENESNWSW|)W(S|NN)))|N(WW(SEWN|)WNNNENNWWS(SWNNWSSWNWSWSWWWWS(W(W|NNNNENEESSE(NE(NENNWSW(S|NNEENNESENESESESSWWS(WW(SWEN|)NNE(S|N(ESEWNW|)W)|EEENNNNENWNENENNESENENE(SSSESWSWSSWWNW(NNESE(NEN(N|WW)|S)|SWSESENESSE(NNEEEEEESSENENWNNESE(NE(NWWNENWWSWNWSWN(NEWS|)WSSWSWSEENESENN(E(SS|E)|W)|E)|SSS(E(N|E)|WSWW(SEEENSWWWN|)WNNWWWW(EEEESSNNWWWW|)))|SWW(NWWN|SEEEE)))|NNWNWNN(ESESENN(NEWS|)W|WWNWSW(N|SEEESWWWWWWSWNN(EEN(ESNW|)W|WWW(NNESNWSS|)SSEE(NWES|)SWSESWSSS(EEENNNW(SSWNSENN|)NNESEENWNEEEESENES(E|SWWWSW(NNEWSS|)S(E|SWNNWSSSES(W|S)))|WNWWNENWWSSSSSE(EN(NWS|ES)|SWW(SEESWW|WNENNWNW(SWNW(WW|SSS(EEN(E|W)|WSW(SEWN|)N))|NEN(W|NE(NNN(E(SSES(EE(NWNWESES|)SS|W)|N)|WW)|SSS))))))))))))|S)|SWWN(WSNE|)N)|S)|EEEEENESEEE(NWWEES|)SWW(SESWENWN|)WW)|E)|E)))))|N))))))|W))|SWW(W|S)))|N))|N)|WSWNWWWSES(WW(S|NNWSWNWWWWS(WNWWWSEESWSEE(N|SESSSE(NNENWESWSS|)SWWSESWSESENNNE(N|SSSSWWSEEE(SWSSE(N|ESWSWNWNWSSSE(SWSESEEEESSWNWSWWWN(EE|NWWSESSESESWSEESWSSEEEESWWWWWWSESESSSEENWNEENWN(W(S|W)|EESSENNNNEEEENWNENENEENESSESWWSESWWW(SWWSEEEEN(ESEEESSEEESESWWSEESWWSWWSWWWNWNEESENEENNN(E|WSWNWWWNN(WWSESWWSSENES(ENEES(W|EE)|SSWWSESEE(NWES|)ESEEN(EESSS(E(SS|NEES(EN(E|NNWWN(W(SSEEWWNN|)W|NESENEEENNNNWNWSSESWS(WNNNNWNNNNNWSWNNNNWSSSSS(WNNNW(NENWNEENNENENNNNNEEEENNE(NWNN(NESSNNWS|)WSWWWWNN(ESEEWWNW|)NNWSSWSESWSEEESWWWWNW(NENSWS|)SSEEEE(SWSWSWNWN(WSWSESSSSEENNN(W(N|SS)|EEE(SWSW(SSWW(WWNNWWSSWNNWSSWNWSSSES(ENN(E(EENNSSWW|)S|W)|WWSWNWW(NWNEN(WW|ESSENNE(NNEENWWNWWNENEENNN(WWSS(ENSW|)WSWSW(SEWN|)N|NEENEESSW(WWSSEEEE(SSWSEESWWWNW(S|WN(NEE(SWEN|)E|W(W|S)))|ENW(NEE(NWWEES|)S|WWW))|N))|SS))|SS(E(EEEENW|N)|W)))|SS)|N)|N(W|N)))|EE)|EEEENNWWSE(WNEESSNNWWSE|))|SE(SWSWSSSWSSSWNNW(SWSWSESEN(N|EESSENNENNW(S|NEEN(NW(NENSWS|)S|ESSEESSSEEEENWNWN(EESENESE(NNWWEESS|)SSWSS(ENSW|)SWWNWSWWWNN(WWWN(ENN(ESSNNW|)W(S|N)|WSSEESSSESS(EEENNWW(SEWN|)N(WNNSSE|)EEEESWSSS(NNNENWESWSSS|)|SWNNWNNWWN(EE|NWSSW(SSENESS(E(ESWENW|)NN|WW)|NNWWNEEN(SWWSEEWWNEEN|)))))|EE(SWEN|)EEE(NNEWSS|)S)|W(SSEWNN|)N))))|NENNE(NWWSSNNEES|)S)|EN(W|E)))|SSSWNN)|SSEENNWS(NESSWWEENNWS|))|E)))|W))|WWWSESWSWWWSWNNWSWWNWNEE(EEESEENNW(S|N(EEEENSWWWW|)WSWNWWS(WWWSWSESWWWWSSWSSESEENWN(W|EESSSESSWWWSWSSEEN(W|ESENN(WW|ENESEESWSWNWSSSENEEEESWWSW(N|SSWWWNN(EESWENWW|)NWSWWNN(E(EE|S)|WWSWNNENWNWNEE(S|ENN(WSWNN(WNWSSESWSSSSE(SWSESWSSESSESENNWNN(ESESSENENN(ESSEEESSWNWWWSWWSSEEEN(WW|NESESENENEESESESSWSWNN(WW(NE(N|E)|SSWWSWNNN(ESENSWNW|)(WWWSESSWWN(NWSSSSEESWSWSWSSWSEESSEENNEESWSSEEEESESWWSWSSSEENWNENESEENNENEENWNNEEESESWW(NWES|)SSEESWSSESWSSSSEESESSEEENWNW(NENEESS(WNSE|)EESSES(ENEES(EENNNESENNWWWSWNWNEENNNESSES(W|EESEESWWSSEEN(W|ESES(EEEEEENENENNESSEENNNW(SS|WNNNWWWNENWWWNWSWSWWWWWSSS(WWNNE(S|NWW(SS|WNNENESEENEEENNNWSWNNWWWWSESEE(NWES|)S(W(S|WWWSWNNNWSSWSSSSE(ENNW(N|S)|SWSESWWNWSWNNWSWNNWNNWWNWSW(S(W|SENEESWSSWW(NEWS|)SS(WNNSSE|)E(EN(ENNESSEESSEESE(NNWWEESS|)S(E(EESNWW|)N|W)|W)|S))|NN(WW|EENNESESS(WNSE|)ESES(SENEE(SSWNSENN|)NNNWWW(SESENSWNWN|)NENWW(SS|WNNWNWNNNENNEENEEEESWWSEESWSSSESSSE(NENENWNNW(WSESSNNWNE|)NNNESEENWNENWWSWNWNNENENENNENNWWWSE(E|SWS(E|SWSWWNENWWSWWWSEEESSS(WNWSWS(WWNWSSWNNWNWNNENEESESS(E(S|EN(WNNNW(S|NNESESEENNW(NW(S|WWNENWNNEES(W|ESWSEESEESS(WNSE|)ENE(SS|NWNNWSWNNENWNWNNENENWNNWWNENW(WSSSWWSWNWWWWSEESWSSWW(NENWNWNENWWNNEES(E(SEEWWN|)NNNN(EENSWW|)WSWWWNWWSWN(WWWS(WNSE|)EESSENEE(SWSEE(NNEEEWWWSS|)SWWS(WNNWESSE|)ESEE(NWES|)SESWS(W|E)|N)|N)|W)|SSEESEENE(NNWW(S(WW|E|S)|NEN(ESESENN(NESE(ENNWSNESSW|)SWSS(WW|E(SESSNNWN|)N)|W)|N))|SSSWSESSSWWWW(NW(NEEE(ESWWEENW|)NWWNN(WWSESWWNN(NEEEWWWS|)WSSWSEEES(NWWWNEWSEEES|)|EE(SWEN|)E)|S)|S(SSSSW(SESSSEESWSWWSES(WWNWWWNWWNNENWNEESSEENWNNWW(WWSSWW(SWSWSEES(EE(SSS(W|ENNE(NWES|)SSENNESE(SE(SWW(N|S(SS|E)|W)|N)|N))|NWN(ENWESW|)W)|WW(WNSE|)SS)|NN(E(NNN|S)|WW))|NEE(EESS(WNSE|)ESSS(W(NN|WS(WNWWEESE|)E)|E)|NN))|EEN(EEE(SS(E(E|N)|SSWNNWNE(WSESSEWNNWNE|))|NNWSW(W|NNEEN(ENWESW|)WWWWNENWN(SESWSEWNENWN|)))|W))|N)|E))))|NNNESEE(SENESESENNNW(S|NEEEESENNEESWSSWSWNWNWSSSE(SWWSWNWWSESW(WNNN(W(NWES|)S|EE)|SSENEEEENW(NEENEN(W|ESENENNN(WSSWENNE|)NNNEEEEEE(NWWNNWSWWS(EE|WNNNWWNN(ESENEEEEE(NWWWNWWS(E|W)|SWS(E|WNWSW(SEWN|)N))|WSWSSWSWWNNWSW(NNEENEE(N(ESNW|)NWN(N|WSWWSSENEE(WWSWNNSSENEE|)|E)|SWS(E|S))|WW|SESEEEES(EENWN(N(N|EES(SS|W))|W)|WWS(WWNEWSEE|)EE))))|EESSSSWNNNWSSSWSWNWNNWSSW(SESWSWSSWWSSWNN(NEEWWS|)WSSWWSEEEEENNESENESSWWSSSWSEEENWNEEN(WW|ESENNESSESSSENESSESWWWN(E|WSSWWSSENESSENNNEEESEESSWWN(E|WW(NEWS|)SESESWWWSWNWN(EEE|NWSWWSEESSE(ESESSEEENNNWW(SESWENWN|)(W|NEEEEEENENEENNESEESENEENWNWWW(SEEWWN|)WNWWS(E|SSWWW(S(WWSEEWWNEE|)E|NNNENNWSWNNW(SSSEWNNN|)NNESEEEESSW(NWWEES|)S(SSWSEWNENN|)EEEENEN(ESEEENENWWSWNNEEN(W|ESENNNEENWNWNWNNNESEENEN(ESSWSSW(NW(W|S)|SEE(NN|SSSW(NN|WWSSEEE(NWWEES|)SWWWWSSENEEESSWNWSSSEE(NWES|)SSSSWSESSSWSWSWWNNWNENENWWNNW(WSESS(SWWNENWN(WWSWSSEE(N(W|N)|SSEEE(NWWEES|)SWSSSSSWWSSESWSSESENN(W|NENN(NNENESSESEENWNWNNEEE(NN(WSWWWSWW(NENNSSWS|)S|N)|SW(W|SESSSSWSESWSWWSWWW(SSESSWWSWSWNNWSSWWNNE(S|NNNNNNE(NWNNE(NNNEENWNENNWSWSWNNENNWSWSWSSSE(NN|SSS(ENNNEWSSSW|)WSESSSSWSSSS(ENNNSSSW|)WWW(NEENWNNE(NWWSWWS(WWNENNNNWSSSWWNW(WWWNENEEEE(NENEEENNNWSWWWNNN(EENENWNEN(ESSSEENNW(S|NENESSES(ENNWNN(E(ENWESW|)S|W)|WS(SSSSSS(ENSW|)SSWSEES(WWWNNN(ENNW(NNNWN(EESSSNNNWW|)WSWWSE|S)|WW(SSSE(SWEN|)NN|W))|S)|E)))|W)|WSWSSWNNN(E|NNWWN(WWWSESE(N|EESSSSSEEE(NN|S(ENEEEWWWSW|)WWWWW(SS(ENEEEE|SSS(E|WWS(EE|W(N|WWWW))))|NWSWNWWWNNESENNNN(NWSSWS(WNW(NNNNESSE(SWEN|)NEENNWNWWNNESENNESSE(S(W|SEESWW)|NENWNEE(NWWNENWWWWWW(SSSEE(NWNEEESWSE(WNENWWEESWSE|)|SWWWSESWSS(WW(NENSWS|)W|E(EESEWNWW|)N))|NEE(NWNENN(ESNW|)WWS(WNWSWSWSSS(WNNNNNWN(EES(ENNWESSW|)S|WS(SESSNNWN|)W)|EENWNEE(SS|N(ESNW|)W))|E)|EEEEESSENE(NNW(S|WNEEESS(NNWWWSNEEESS|))|S)))|SS))|SSESSWNW(SS(SSEWNN|)W|NNNW(SS|W)))|E)|ESEEESWWWSSENESE(N|S)))))|E)))|S(WWW|S))|S)|SSSENNENW(ESWSSWENNENW|))|S)|SSSSSENESS(WWWNWWWS(W|EE)|ENN(EEEEEEEN(W|ESSS(WWWWWWN(WSNE|)EEEEE|ENEENNNENNNNE(N(N|WWSWW(SESWSE(ENNSSW|)SSW(NWW|SE)|W))|SSSSSWSESSW(WW|N))))|NNNWSSWNN(SSENNEWSSWNN|)))))|S)|SESWSEENESSS(E|W(S|WN(WSNE|)E))))|NEENENWNEE(N(WWW(SSSWNSENNN|)N(E|N)|E)|SS))))|W(S|W))))|N)|E)|NNESEEEE(SWS(WWNEWSEE|)SSS(ENSW|)WS(S|E)|NWWNNWWN(EE|N|WWWWWS(EEEES(EESNWW|)W|W)))))))|WW(S|WWN(E|W(W|SSSWWWW(S(WW|EEEESS(WNWESE|)ES(WSSENSWNNE|)E)|N))))))|WWW(SEWN|)NN(ESNW|)WWN(NNEWSS|)WW(SEWN|)WWNWNWWW(NNWWS(E|WSWNNNWWNEEENN(W(SWEN|)N|ESESS(W(WSNE|)N|ENESESWSEEEE(S(S|W)|NWNE(NNWSW(NNEENE(S|NWWWN(EE|W(N|SS(EE|WWS(WNSE|)ES(W|E(N|S))))))|SS)|E)))))|SEESS(WNSE|)E(N|SS))))))|N)))))|NNNEEESE(SWEN|)N)))|WW))|N))|NNW(NN|S))))))|S))|EE))|WNW(N|W|S))|E)|EENNWS)))|SWWNNNWWS(E|WNNNENWNN(WSSWSES(NWNENNSSWSES|)|E(SESSSW|N)))))|W)))))|EE)))|SEESSESENNWNNWNEESENN(WWWWSS|ESENN(ESSESSWSSWWNENW(NEEWWS|)W(SSSS(W|EEEN(ENNE(NENWNE|S)|WW))|W)|W))))|WWWWWNWS(NESEEEWWWNWS|))))|W)|WWNW(NEWS|)SWWWWWWWNWSWWWWNNNWWNWWSSE(SEE(NWES|)SWWWWWNE(NNNNWSSSWNWNENNNE(ES(W|ESEENN(W(S|W)|ENEESENNESSE(NNNNWW(NEWS|)WS(SWWWSNEEEN|)EE|SSWSWSSW(NNWWNNE(ES(ENEWSW|)W|N)|SEENEN(W|N|EES(ESWENW|)W)))))|NWWWSESWWNNWWNWSWWWWSESSSESENNWNEEEE(NWWWWEEEES|)SSSENE(SSESESWWWWWNWSWNWSWWNWWWWWWNNNNNNWNEENNNENWNNEEEEENNWNWNWSWWSWS(WNWNWSSSWWNENWWSSSWSESSENNNESSESENENNE(SSSSW(WSWWN(E|WWSSWNWWWNWWWSSSWNNNWSWSSSE(NN|SSEESENNWN(WSNE|)EEESEENWNN(WWS(WNNEWSSE|)E|ESESSEENWNEESESSSSES(WWWNWSWWWNWSWWN(ENEEN(WWNSEE|)EES(WSEWNE|)ENESE(S|NN)|WWWS(EE|WWWNNESEN(NNWSWNWSSSWW(SEEWWN|)NENNW(NENESEENWNENWWNWW(NEENWWNENENWNNW(NNESESSEENWNEENNENWWWSESWWNNWSWNNEENWWNNNNNNNNNEESWSSSSEENEENENNNEEESSSSWNNW(NEWS|)SSSSWN(N|WWSWSWS(WNNEWSSE|)EEEN(W|ESSWS(WNWSNESE|)EESEENESESSSSSSEE(NE(S|NNNNENWWSW(NNEENNNWNWWSSWWS(W(S|WNEN(W|EENN(WWSEWNEE|)ENWNNENEESWS(ESWSEEEENESSENNNESENNNENEEENWNENNNENNNNNNNNWSSWWWWSESSSSEE(ENNNWSW(NNEE|SE)|SSSWWNWSWSSS(SWS(E|WWNENNE(NNWSWSSWW(SSE(N|S(WSEWNE|)EE)|NWSWWW(NWWNWWNWWSSSE(N(EE|N)|SWS(SWN(WSSNNE|)NNNNNNWSWNW(SSEESWW(EENWWNSEESWW|)|NNENESS(ENESSEEENESS(W|EES(W|ENENNENNNNWSWWNWNNENNNNENNESSESENNEEESSEEESS(WNWSSSWNWSWSSSW(NNNNNN(WWW(NEWS|)SSS(S|W|ENE(NWES|)S)|ES(EN(ES|NWNE)|S))|SSSSW(N|S(WSWENE|)EE(S|NENNN(WSSNNE|)NENWNEESSENN(ESSSWS(EEESNWWW|)SWNW(NEWS|)S|NN))))|ENEE(SWEN|)NWWNEEEEENWNENWNNESEESSSENEEEE(NNWSWWNNNNEESWS(EENNNWWNNNESSEENWNNENN(EESENESSSESSWWWNW(SSSSS(EENNEN(WWSSNNEE|)EEENWNNESE(NNWWWNENWNN(WSWNSENE|)EES(W|SE(NNNWN(EESNWW|)W(NENWESWS|)S|S(EE|W)))|ES(EEE|W))|W(SS|NNN))|N(W|EN(WN|ESSE)))|WSWNNENNWWN(E|WNENNNEE(SWEN|)NWNWNENWWSWWNNE(S|NNE(SESWENWN|)NWNNWNENEEE(NWNNWSSWNNNEENE(NNWSWSWWWSWWNENNWWWWNWNNESEEENWWNEENENESSEEEE(SSSWWWNN(EESWENWW|)WW(N|SES(WWWW|SES(ENEWSW|)W))|NENWWWW(SEEWWN|)NWWWNENENNE(SESS(W(W|N)|ES(E(N|E)|W))|NWWSSWNNWWWSWNWSSEESSSENNE(NNWSNESS|)(SSS(WWWWSS(SSWSESWSESSSENNN(N|ESSSSWWWSWNWNENWWSWNNNWSWSSSWWSEEEESWWSWWSESSENEENW(W|NEEEEEN(EESWSSWNWSWSW(NNEWSS|)SSWWWN(ENESNWSW|)WWNNWNWNNE(S|EE|NNNEENWWWSSSWSWWNNE(S|NNWNWSS(E|WNWNWWNNEENESS(WW|S|EEESE(SSS|NEEEE(SWWWEEEN|)NNENNEEESENNENWNWSWWWWNNWSWNNNWWWNWWNWN(EEEES(WW|SEEEEESESW(WNWSNESE|)SEE(SWWEEN|)NNNENWN(EEESWSSSW(SEENNE(N(W|NN)|EESSWW(NEWS|)S(SSSWSSSSWNNWWW(NEWS|)S(WSNE|)EESSEEESS(NNWWWNSEEESS|)|W))|N)|WWS(ESNW|)WNWSWWNE(WSEENEWSWWNE|)))|WSWWN(WSSESSSEESSWSWSW(SEE(SWWSSSSSENESESSWWSESWW(NNNEEWWSSS|)SSESENN(ENESSEEENN(WW(SEWN|)NW(NENWESWS|)W|ESSESSWSSENE(NN|SSSEESENEESENNWWN(EEENEEEESESEENWNWNNW(SWWW(NEEWWS|)W|NEN(W|NNEN(WWW|ESENESE(SWWSESSSWS(SENE(NNE(NWNSES|)SS|SSSSSWWNWSWNN(WWWN(E|WW(NEEWWS|)WSESWSWWSSWNWN(ENSW|)WSSESWSWSWWNENWNWWWWNNESEEEEE(NWWWNNE(SEEWWN|)NWWWWWSWWWNNEE(SWEN|)NEEEE(SWWWEEEN|)NWN(EE|WSWW(WSWNW(N|SSSSSESESSSWSEEEN(EESEE(NWES|)SWWW(SWNWSSEESSWNWWNNWW(SSSE(NN|SWSSSSSEEEESWWWWSEEESSESEESWWWWSWW(SEESSENESSESWWNWSSEEESSEEE(NNWSWNNEENENWWNEENWNENWNNENWWWW(WNEENWNEENESSS(WNSE|)ENEEEEEENNESEEENWWNWNNNENENWNNNWSSWNNWSWSWWN(WWSSSWSSWSWS(EENESEEENENWNNESEE(NWN(EESNWW|)(N|WWWW(SSE(N|SW(SE|WN))|N))|SSW(N|S(WSWWWS(WN|EEEEN)|E)))|WS(E|WWWNNENEN(WNWSSWSSS(NNNENNSSWSSS|)|EE(SWSWSW|ENNNN(ESS|WSSS)))))|ENENENEES(ENNEN(WWSNEE|)EN(W|N(ESSENE(NWES|)SSSWNWSSWSSS(SSSSESENENNWW(SEWN|)NNENENEEESWSSW(SSSEEEENNENEEE(N(E|WWWWNW(SWSSE(SWWN|NE)|NENESE(S(E|W)|NNWWWSWNNWSSW(WWSWSNENEE|)NNNEEEEENEE(NWWEES|)(E|SS(S|W(N|WWW))))))|SSWW(NEWS|)SE(EE|SSWNW(SSES(ENSW|)SWWS(WWNNE(E(E|NWWWSSSSSSSWS(E|WNNENNNNNNNEEEENWWWWWSSSWSSSS(ENNNSSSW|)WWNWSWSES(WWNNWNEN(NEEES(WWSNEE|)E(NNNN(ESNW|)WNW(WNENSWSE|)S|S)|WWWSWNWSSS(ENESE(S(WS|EN)|NN)|W(NNN|W|SS)))|ENEESWS(SWWNEWSEEN|)E)))|S)|ES(W|E(N|SS)))|NN)))|N(WSWENE|)N)|WNNNNEN(SWSSSSNNNNEN|))|N))|W))|SEESSSWS(SS(SEWN|)WNNNWWSE(WNEESSNNWWSE|)|E))|SS(EESE(SWWNSEEN|)NN(ES|WWN)|WNWW(SESWENWN|)WNNWWS(ESNW|)WW(S|NENNNNW(NEWS|)SSS)))|NENE(E|NNWWS(S|E))))|N(NNNENWN(SESWSSNNENWN|)|EE))|N)|NW(S|NNN(E(EEN(ESSNNW|)W|SS)|W))))|N(E|N)))|S(S|W)))|EENESS))|WNNN(ESNW|)NW(NEWS|)SSS)|NE(NN(N|WWWWW(SEEEEWWWWN|)NENN(WSNE|)E)|S)))))|WSWWNNES(NWSSEEWWNNES|))))|W)|NESENESSSENNNESSSENNNNWWWNW(SWEN|)NNEEN(EESWSS(WNWESE|)EE(N(NN|W)|EESWWSEEE(NEEEEWWWWS|)SWWWSSENES(NWSWNNSSENES|))|WN(WNWWSES(W|E)|E)))|NNEN(WNNNSSSE|)E)|E)))))))|WWWN(NWWNNSSEES|)E)))|ENE(EE|S))|E)|E)))|SS(ENESNWSW|)S)|SSWS(WNNEWSSE|)E))))|S)|S(S|WWWSWSSE(SWSESSWNWSWNW(NEENNWW(SEWN|)N(WW|EN(ESNW|)NNN)|SSESESWW(SESWSW(N|SSESWSEEESWSEEESSSSSEEE(NWWNEENNNWSSWNNNWWNENWNNE(SE(SES(W|ES(W|E(SEWN|)N))|N)|NNWW(NEENWNN(ESNW|)W|S(E|SSW(SEWN|)N(N|W))))|S(E|SWSSWNWNEN(E|WWNWWWNENENE(SSWENN|)NWWWNNWWWSEESSE(SWWSWNWSWNWW(NEEEEENWWNN(WSS|NEE)|SSE(N|SENESSSSWWS(E(SWEN|)EENNESEESENNNE(SE(N|SESSSE(ESWWWSW(SSSESE(NENNW(SWNSEN|)NEESSSEENEEEE(EN(E|WWWWN(WSW(NNN|S)|E))|SWSWW(NEWS|)S(EEENSWWW|)WNW(S|WW))|SWWNWWNENWWN(EE|W(SSSSE(NN|SWSSWSEESSENNE(NWWNENNE(WSSWSEWNENNE|)|SSS(E(S|N|EEENE(NWNEWSES|)SEES(E|W))|WWWWWNEENWWNNNENNN(SSSWSSNNENNN|))))|W)))|NNN(N(ESSNNW|)N|W))|NN))|NWWWWW(NEENSWWS|)SEESEN)|WNNN(EESWENWW|)WSWSW(SS(ENEN|WN)|NNWNNEN(ESS(S|W|E(E|NN))|WN(E|W))))))|E)))))|N))|N))))))|W))|E))|S))|S))|ENEENWW(EESWWSNEENWW|)))|W)))|EE(EENWNSESWW|)S)|SESSW(S|N)))|SSWWSES(ENESSWW(EENNWSNESSWW|)|WWWNWWNNNNWW(NENNESSESSSEE(S(WW|S)|EE|NNNW(NNN(ESSNNW|)W(W|SS)|SS))|SWSESE(SWWW(N(NN|W|E)|SSEEN(EEE|W))|NN))))|N))|SSS)|SES(WSNE|)E)|S)|EE)))|E(EEEEEE|NNWNNNE(NWWN(WWNSEE|)E|SS)))))|N)|N)|NWW(SSWNSENN|)N)|EENEES(E|W))|N(E|W)))|E)|N))|S)|E)|N))|E))|W(WN(N|WW)|S))|W)|N)|E)|ESE(N|E))))))))|E))|S))|W))|ESEENW))|W)|NNE(NEWS|)S)))|N))|N)))|E))|E(N|ESSSSS(WNNNNSSSSE|)EENE(SSWWWSEEE(SWSESWWNNWSWN(SENESSNNWSWN|)|E)|NN(E|WSW(N|S)))))))|S)))))|S)|N)))|S))|EE)|SSSSE(SWWEEN|)NNN))))))|E)|SS)))|W))|SSS(WN(WSNE|)N|S)))|SS)|WSS(WN|SE))|N)|W))|W(NNNEEWWSSS|)W))))))|W))|WSSS(SENN|WN))$\"\n",
    "string = list(string[1:-1])\n"
   ]
  },
  {
   "cell_type": "code",
   "execution_count": null,
   "metadata": {
    "ExecuteTime": {
     "end_time": "2022-06-19T23:42:32.026571Z",
     "start_time": "2022-06-19T23:42:31.935476Z"
    }
   },
   "outputs": [],
   "source": [
    "doors = {}\n",
    "positions = {(0,0)}\n",
    "saved = []\n",
    "cont_points = []\n",
    "\n",
    "while len(string)>0:\n",
    "    dir = string.pop(0)\n",
    "    if dir not in '()|':\n",
    "        news = set()\n",
    "        for pos in positions:\n",
    "            new = go(pos, dir)\n",
    "            news.add(new)\n",
    "            if pos not in doors:\n",
    "                doors[pos] = set()\n",
    "            doors[pos].add(new)\n",
    "            if new not in doors:\n",
    "                doors[new] = set()\n",
    "            doors[new].add(pos)\n",
    "        positions = news\n",
    "    elif dir == '(':\n",
    "        saved.append(positions)\n",
    "        cont_points.append(set())\n",
    "    elif dir == '|':\n",
    "        cont_points[-1] |= positions\n",
    "        positions = saved[-1]\n",
    "    elif dir == ')':\n",
    "        cont_points[-1] |= positions\n",
    "        positions = cont_points.pop(-1)\n",
    "        del saved[-1]"
   ]
  },
  {
   "cell_type": "code",
   "execution_count": null,
   "metadata": {
    "ExecuteTime": {
     "end_time": "2022-06-19T23:44:37.422817Z",
     "start_time": "2022-06-19T23:44:37.409061Z"
    }
   },
   "outputs": [],
   "source": [
    "visited = set()\n",
    "doors_opened = -1\n",
    "new = {(0,0)}\n",
    "thousand_doors = 0\n",
    "while len(new) > 0:\n",
    "    doors_opened += 1\n",
    "    if doors_opened >= 1000:\n",
    "        thousand_doors += len(new)\n",
    "    visited |= new\n",
    "    new = set(npos for pos in new for npos in doors[pos]) - visited"
   ]
  },
  {
   "cell_type": "code",
   "execution_count": null,
   "metadata": {
    "ExecuteTime": {
     "end_time": "2022-06-19T23:44:37.833137Z",
     "start_time": "2022-06-19T23:44:37.829899Z"
    }
   },
   "outputs": [],
   "source": [
    "doors_opened, thousand_doors"
   ]
  },
  {
   "cell_type": "code",
   "execution_count": null,
   "metadata": {},
   "outputs": [],
   "source": []
  }
 ],
 "metadata": {
  "kernelspec": {
   "display_name": "Python 3",
   "language": "python",
   "name": "python3"
  },
  "language_info": {
   "codemirror_mode": {
    "name": "ipython",
    "version": 3
   },
   "file_extension": ".py",
   "mimetype": "text/x-python",
   "name": "python",
   "nbconvert_exporter": "python",
   "pygments_lexer": "ipython3",
   "version": "3.9.7"
  }
 },
 "nbformat": 4,
 "nbformat_minor": 2
}
