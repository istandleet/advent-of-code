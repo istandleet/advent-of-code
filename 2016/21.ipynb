{
 "cells": [
  {
   "cell_type": "markdown",
   "metadata": {},
   "source": [
    "# Day 21\n",
    "\n",
    "- swap position X with position Y means that the letters at indexes X and Y (counting from 0) should be swapped.\n",
    "- swap letter X with letter Y means that the letters X and Y should be swapped (regardless of where they appear in the string).\n",
    "- rotate left/right X steps means that the whole string should be rotated; for example, one right rotation would turn abcd into dabc.\n",
    "- rotate based on position of letter X means that the whole string should be rotated to the right based on the index of letter X (counting from 0) as determined before this instruction does any rotations. Once the index is determined, rotate the string to the right one time, plus a number of times equal to that index, plus one additional time if the index was at least 4.\n",
    "- reverse positions X through Y means that the span of letters at indexes X through Y (including the letters at X and Y) should be reversed in order.\n",
    "- move position X to position Y means that the letter which is at index X should be removed from the string, then inserted such that it ends up at index Y."
   ]
  },
  {
   "cell_type": "code",
   "execution_count": 91,
   "metadata": {},
   "outputs": [],
   "source": [
    "def swapPos(x,y,s):\n",
    "    s[x],s[y]=s[y],s[x]\n",
    "    return s\n",
    "def swapLet(x,y,s):\n",
    "    x,y=s.index(x),s.index(y)\n",
    "    return swapPos(x,y,s)\n",
    "def rotatePos(right,x,s):\n",
    "    x = x % len(s)\n",
    "    return s[-x:] + s[:-x] \\\n",
    "        if right \\\n",
    "        else s[x:] + s[:x]\n",
    "def rotateLetter(x,s):\n",
    "    i = s.index(x)\n",
    "    if i >= 4: i+=1\n",
    "    i+=1\n",
    "    return rotatePos(True,i,s)\n",
    "def unrotateLetter(x,s):\n",
    "    i = s.index(x)\n",
    "    i = i//2 if i%2==1 else \\\n",
    "        (i+len(s))//2 if i>0 else 0\n",
    "    i+=1\n",
    "    return rotatePos(False,i,s)\n",
    "def reversePos(x,y,s):\n",
    "    x,y=min(x,y),max(x,y)\n",
    "    return s[:x]+list(reversed(s[x:y+1]))+s[y+1:]\n",
    "def movePos(x,y,s):\n",
    "    c=s.pop(x)\n",
    "    s.insert(y,c)\n",
    "    return s"
   ]
  },
  {
   "cell_type": "code",
   "execution_count": 92,
   "metadata": {},
   "outputs": [
    {
     "name": "stdout",
     "output_type": "stream",
     "text": [
      "a habcdefg 1 abcdefgh\n",
      "b ghabcdef 3 abcdefgh\n",
      "c fghabcde 5 abcdefgh\n",
      "d efghabcd 7 abcdefgh\n",
      "e cdefghab 2 abcdefgh\n",
      "f bcdefgha 4 abcdefgh\n",
      "g abcdefgh 6 abcdefgh\n",
      "h habcdefg 0 abcdefgh\n"
     ]
    }
   ],
   "source": [
    "s = 'abcdefgh'\n",
    "for x in s:\n",
    "    r = rotateLetter(x,s)\n",
    "    print(x,r,r.index(x),unrotateLetter(x,r))"
   ]
  },
  {
   "cell_type": "code",
   "execution_count": 88,
   "metadata": {},
   "outputs": [
    {
     "name": "stdout",
     "output_type": "stream",
     "text": [
      "a eabcd 1 abcde\n",
      "b deabc 3 abcde\n",
      "c cdeab 0 deabc\n",
      "d bcdea 2 deabc\n",
      "e eabcd 0 abcde\n"
     ]
    }
   ],
   "source": [
    "s = 'abcde'\n",
    "for x in s:\n",
    "    r = rotateLetter(x,s)\n",
    "    print(x,r,r.index(x),unrotateLetter(x,r))"
   ]
  },
  {
   "cell_type": "code",
   "execution_count": 93,
   "metadata": {},
   "outputs": [],
   "source": [
    "def go(lines, s):\n",
    "    s = list(s)\n",
    "    for l in lines:\n",
    "        if l[:6] == 'swap p':\n",
    "            x = int(l[14])\n",
    "            y = int(l[-1])\n",
    "            s = swapPos(x,y,s)\n",
    "        elif l[:6] == 'swap l':\n",
    "            x = l[12]\n",
    "            y = l[-1]\n",
    "            s = swapLet(x,y,s)\n",
    "        elif l[:3] == 'rev':\n",
    "            x = int(l[18])\n",
    "            y = int(l[-1])\n",
    "            s = reversePos(x,y,s)\n",
    "        elif l[:3] == 'mov':\n",
    "            x = int(l[14])\n",
    "            y = int(l[-1])\n",
    "            s = movePos(x,y,s)\n",
    "        elif l[:3] == 'rot' and l[7] in 'lr':\n",
    "            right = l[7]=='r'\n",
    "            x = int(l[13 if right else 12])\n",
    "            s = rotatePos(right,x,s)\n",
    "        elif l[:3] == 'rot':\n",
    "            x = l[-1]\n",
    "            s = rotateLetter(x,s)\n",
    "        else:\n",
    "            raise Exception('Unrecognized Line',l)\n",
    "        print(''.join(s))\n",
    "    return ''.join(s)\n",
    "\n",
    "def ungo(lines, s):\n",
    "    s = list(s)\n",
    "    for l in reversed(lines):\n",
    "        if l[:6] == 'swap p':\n",
    "            x = int(l[14])\n",
    "            y = int(l[-1])\n",
    "            s = swapPos(x,y,s)\n",
    "        elif l[:6] == 'swap l':\n",
    "            x = l[12]\n",
    "            y = l[-1]\n",
    "            s = swapLet(x,y,s)\n",
    "        elif l[:3] == 'rev':\n",
    "            x = int(l[18])\n",
    "            y = int(l[-1])\n",
    "            s = reversePos(x,y,s)\n",
    "        elif l[:3] == 'mov':\n",
    "            x = int(l[14])\n",
    "            y = int(l[-1])\n",
    "            s = movePos(y,x,s)\n",
    "        elif l[:3] == 'rot' and l[7] in 'lr':\n",
    "            right = l[7]=='r'\n",
    "            x = int(l[13 if right else 12])\n",
    "            s = rotatePos(not right,x,s)\n",
    "        elif l[:3] == 'rot':\n",
    "            x = l[-1]\n",
    "            s = unrotateLetter(x,s)\n",
    "        else:\n",
    "            raise Exception('Unrecognized Line',l)\n",
    "        print(''.join(s))\n",
    "    return ''.join(s)"
   ]
  },
  {
   "cell_type": "code",
   "execution_count": 67,
   "metadata": {},
   "outputs": [
    {
     "name": "stdout",
     "output_type": "stream",
     "text": [
      "ebcda\n",
      "edcba\n",
      "abcde\n",
      "bcdea\n",
      "bdeac\n",
      "abdec\n",
      "ecabd\n",
      "decab\n"
     ]
    },
    {
     "data": {
      "text/plain": [
       "'decab'"
      ]
     },
     "execution_count": 67,
     "metadata": {},
     "output_type": "execute_result"
    }
   ],
   "source": [
    "lines = \\\n",
    "['swap position 4 with position 0'\n",
    ",'swap letter d with letter b'\n",
    ",'reverse positions 0 through 4'\n",
    ",'rotate left 1 step'\n",
    ",'move position 1 to position 4'\n",
    ",'move position 3 to position 0'\n",
    ",'rotate based on position of letter b'\n",
    ",'rotate based on position of letter d'\n",
    "]\n",
    "s = 'abcde'\n",
    "go(lines,s)"
   ]
  },
  {
   "cell_type": "code",
   "execution_count": 68,
   "metadata": {},
   "outputs": [
    {
     "name": "stdout",
     "output_type": "stream",
     "text": [
      "bdeca\n",
      "abdec\n",
      "bdeac\n",
      "bcdea\n",
      "abcde\n",
      "edcba\n",
      "ebcda\n",
      "abcde\n"
     ]
    },
    {
     "data": {
      "text/plain": [
       "'abcde'"
      ]
     },
     "execution_count": 68,
     "metadata": {},
     "output_type": "execute_result"
    }
   ],
   "source": [
    "ungo(lines,'decab')"
   ]
  },
  {
   "cell_type": "code",
   "execution_count": 94,
   "metadata": {},
   "outputs": [
    {
     "name": "stdout",
     "output_type": "stream",
     "text": [
      "fghabcde\n",
      "fghbacde\n",
      "fghabcde\n",
      "eghabcdf\n",
      "egfabcdh\n",
      "cdhegfab\n",
      "bcdhegfa\n",
      "hcdbegfa\n",
      "hfdbegca\n",
      "ehfdbgca\n",
      "bgcaehfd\n",
      "bgcaedfh\n",
      "bgcaefdh\n",
      "hbgcaefd\n",
      "hbgceafd\n",
      "hbgeafcd\n",
      "afcdhbge\n",
      "bgeafcdh\n",
      "dhbgeafc\n",
      "dhbgefac\n",
      "facdhbge\n",
      "acdhbgef\n",
      "hbgefacd\n",
      "hbgefcad\n",
      "hbgeafcd\n",
      "hbgeafcd\n",
      "hbgfaecd\n",
      "hbgfecda\n",
      "adcefgbh\n",
      "fgbhadce\n",
      "gbhadcef\n",
      "adcefgbh\n",
      "hdcefgba\n",
      "fgbahdce\n",
      "fgbehdca\n",
      "fgbehdca\n",
      "fgebhdca\n",
      "gebhdcaf\n",
      "gedhbcaf\n",
      "fgedhbca\n",
      "dfgehbca\n",
      "dfghbeca\n",
      "bfghdeca\n",
      "bedhgfca\n",
      "ebdhgfca\n",
      "aebdhgfc\n",
      "aeghdbfc\n",
      "afghdbec\n",
      "aeghdbfc\n",
      "abghdefc\n",
      "cabghdef\n",
      "cbghdeaf\n",
      "cbghedaf\n",
      "cbghfade\n",
      "cbghfeda\n",
      "gbchfeda\n",
      "ebchfgda\n",
      "fgdaebch\n",
      "fgdcebah\n",
      "fgdcebah\n",
      "gfdcebah\n",
      "gecdfbah\n",
      "fbahgecd\n",
      "fbghaecd\n",
      "fbghaecd\n",
      "bfghaecd\n",
      "bfghcead\n",
      "bfgdceah\n",
      "bagdcefh\n",
      "baghfecd\n",
      "dbaghfec\n",
      "dbagcfeh\n",
      "dagbcfeh\n",
      "dacbgfeh\n",
      "gfehdacb\n",
      "gfehdcab\n",
      "gfechdab\n",
      "bfechdag\n",
      "echdagbf\n",
      "echdagfb\n",
      "ecgdahfb\n",
      "becgdahf\n",
      "bfcgdahe\n",
      "bacgdfhe\n",
      "baehfdgc\n",
      "baehfcgd\n",
      "hfcgdbae\n",
      "fcgdbaeh\n",
      "dbaehfcg\n",
      "dbachfeg\n",
      "fegdbach\n",
      "aegdbfch\n",
      "cegdbfah\n",
      "cegdhfab\n",
      "fhdgecab\n",
      "fhdcegab\n",
      "fhecdgab\n",
      "hecdgabf\n",
      "hcdegabf\n",
      "hcdefbag\n"
     ]
    },
    {
     "data": {
      "text/plain": [
       "'hcdefbag'"
      ]
     },
     "execution_count": 94,
     "metadata": {},
     "output_type": "execute_result"
    }
   ],
   "source": [
    "with open('21.txt','r') as f:\n",
    "    lines = f.read().split('\\n')[:-1]\n",
    "s = 'abcdefgh'\n",
    "go(lines,s)"
   ]
  },
  {
   "cell_type": "code",
   "execution_count": 95,
   "metadata": {},
   "outputs": [
    {
     "name": "stdout",
     "output_type": "stream",
     "text": [
      "fbgdhaec\n",
      "fdbghaec\n",
      "cfdbghae\n",
      "cfebghad\n",
      "cfehgbad\n",
      "bghefcad\n",
      "bghedcaf\n",
      "aghedcbf\n",
      "fghedcba\n",
      "dcbafghe\n",
      "debafghc\n",
      "ghcdebaf\n",
      "debafghc\n",
      "ghcdebaf\n",
      "ghcdefab\n",
      "ghbafedc\n",
      "gebafhdc\n",
      "gcbafhde\n",
      "fhdegcba\n",
      "fhcegdba\n",
      "fhcegdab\n",
      "abfhcegd\n",
      "agfhcebd\n",
      "agfcehbd\n",
      "agfcebhd\n",
      "cebhdagf\n",
      "cedhbagf\n",
      "chedbagf\n",
      "hcedbagf\n",
      "cedbagfh\n",
      "cedhfgab\n",
      "cedhagfb\n",
      "cedbagfh\n",
      "aedbcgfh\n",
      "eadbcgfh\n",
      "eadbcgfh\n",
      "eacbdgfh\n",
      "heacbdgf\n",
      "hbcaedgf\n",
      "bhcaedgf\n",
      "bhcaedgf\n",
      "bhacedgf\n",
      "edgfbhac\n",
      "gdefbhac\n",
      "cdefbhag\n",
      "cdefbgah\n",
      "cdefhagb\n",
      "cedfhagb\n",
      "cgedfhab\n",
      "cgedfhab\n",
      "chedfgab\n",
      "chfdegab\n",
      "cafdeghb\n",
      "cagedfhb\n",
      "agedfhbc\n",
      "gaedfhbc\n",
      "ghfdeabc\n",
      "ghfbeadc\n",
      "ghfabedc\n",
      "hfagbedc\n",
      "agbedchf\n",
      "agdebchf\n",
      "hfagdebc\n",
      "hfgadebc\n",
      "debchfga\n",
      "dabchfge\n",
      "hfgedabc\n",
      "cfgedabh\n",
      "abhcfged\n",
      "fgedabhc\n",
      "abhcfged\n",
      "degfchba\n",
      "degfachb\n",
      "degcafhb\n",
      "degcafhb\n",
      "degcfhab\n",
      "degcfahb\n",
      "ahbdegcf\n",
      "cfahbdeg\n",
      "hbdegcfa\n",
      "hbdegfca\n",
      "degfcahb\n",
      "bdegfcah\n",
      "ahbdegfc\n",
      "ahbfdegc\n",
      "ahbfedgc\n",
      "hbfedgca\n",
      "hbfedcga\n",
      "dbfehcga\n",
      "bfehcgad\n",
      "fehcbgad\n",
      "fahcbged\n",
      "cahfbged\n",
      "dcahfbge\n",
      "edcahfbg\n",
      "edcafhbg\n",
      "gdcafhbe\n",
      "gdcfahbe\n",
      "gdcfbhae\n",
      "fbhaegdc\n"
     ]
    },
    {
     "data": {
      "text/plain": [
       "'fbhaegdc'"
      ]
     },
     "execution_count": 95,
     "metadata": {},
     "output_type": "execute_result"
    }
   ],
   "source": [
    "ungo(lines,'fbgdceah')"
   ]
  },
  {
   "cell_type": "code",
   "execution_count": null,
   "metadata": {},
   "outputs": [],
   "source": []
  }
 ],
 "metadata": {
  "kernelspec": {
   "display_name": "Python 3",
   "language": "python",
   "name": "python3"
  },
  "language_info": {
   "codemirror_mode": {
    "name": "ipython",
    "version": 3
   },
   "file_extension": ".py",
   "mimetype": "text/x-python",
   "name": "python",
   "nbconvert_exporter": "python",
   "pygments_lexer": "ipython3",
   "version": "3.7.0"
  }
 },
 "nbformat": 4,
 "nbformat_minor": 2
}
